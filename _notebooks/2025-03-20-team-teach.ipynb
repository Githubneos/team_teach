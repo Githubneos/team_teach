{
 "cells": [
  {
   "cell_type": "markdown",
   "metadata": {},
   "source": [
    "---\n",
    "layout: post\n",
    "type: issues \n",
    "comments: true\n",
    "permalink: Lists_Algorithims\n",
    "---"
   ]
  },
  {
   "cell_type": "markdown",
   "metadata": {},
<<<<<<< HEAD
   "source": [
    "<hr>"
   ]
  },
  {
   "cell_type": "markdown",
   "metadata": {},
   "source": []
  },
  {
   "cell_type": "markdown",
   "metadata": {},
   "source": [
    "<iframe width=\"560\" height=\"315\" src=\"https://www.youtube.com/embed/R9PTBwOzceo\" frameborder=\"0\" allowfullscreen></iframe>\n"
   ]
  },
  {
   "cell_type": "markdown",
   "metadata": {},
   "source": [
    "<hr>"
   ]
  },
  {
   "cell_type": "markdown",
   "metadata": {},
   "source": [
    "## Lists Basics"
=======
   "source": [
    "# Lists"
>>>>>>> a6f5658 (editing lists and adding filtering algo)
   ]
  },
  {
   "cell_type": "markdown",
   "metadata": {},
   "source": [
    "1. What is a List?\n",
    "    A list is a collection of ordered elements, which means the order in which you add elements is preserved. Lists are mutable, meaning you can change, add, or remove elements after they've been created.\n",
    "\n",
    "    - Ordered: The position of elements is important.\n",
    "    - Mutable: You can change, add, or remove elements.\n",
    "    - Indexed: Each element has an index, starting from 0 for the first element."
   ]
  },
  {
   "cell_type": "markdown",
   "metadata": {},
   "source": [
    "2. Creating a List\n",
    "You create a list by placing items inside square brackets [] and separating them with commas. You can store any type of data in a list: strings, numbers, or even other lists."
   ]
  },
  {
   "cell_type": "code",
   "execution_count": null,
   "metadata": {},
   "outputs": [],
   "source": [
    "fruits = [\"apple\", \"banana\", \"cherry\"]\n",
    "print(fruits)  # Output: ['apple', 'banana', 'cherry']\n"
   ]
  },
  {
   "cell_type": "markdown",
   "metadata": {},
   "source": [
<<<<<<< HEAD
    "<hr>"
=======
    "### Popcorn Hack #1: Extraction and Reversal"
>>>>>>> a6f5658 (editing lists and adding filtering algo)
   ]
  },
  {
   "cell_type": "markdown",
   "metadata": {},
   "source": [
<<<<<<< HEAD
    "### 2️⃣ Indexing & Slicing\n",
    "\n",
    "#### Indexing:\n",
    "\n",
    "Python lists use zero-based indexing, meaning the first element is at index 0.\n",
    "\n",
    "Example:"
=======
    "Use list slicing to solve the following tasks:\n",
    "    - Extract the first 5 elements of the list.\n",
    "    - Extract every other element starting from the second element (index 1).\n",
    "    - Reverse the list using list slicing.\n",
    "    - Create a new list with the last 4 elements of the original list."
   ]
  },
  {
   "cell_type": "markdown",
   "metadata": {},
   "source": [
    "3. Accessing List Elements\n",
    "    - You can access any element in the list by using its index. The index starts at 0 for the first element."
>>>>>>> a6f5658 (editing lists and adding filtering algo)
   ]
  },
  {
   "cell_type": "code",
   "execution_count": 3,
   "metadata": {},
   "outputs": [
    {
     "name": "stdout",
     "output_type": "stream",
     "text": [
      "apple\n",
      "banana\n"
     ]
    }
   ],
   "source": [
    "fruits = [\"apple\", \"banana\", \"cherry\"]\n",
    "print(fruits[0])  # Output: apple\n",
    "print(fruits[1])  # Output: banana"
   ]
  },
  {
   "cell_type": "markdown",
   "metadata": {},
   "source": [
<<<<<<< HEAD
    "#### Slicing:\n",
    "\n",
    "You can extract portions of a list using slicing.\n",
    "\n",
    "Example:"
   ]
  },
  {
   "cell_type": "code",
   "execution_count": null,
   "metadata": {},
   "outputs": [],
   "source": [
    "print(fruits[1:3])   # Output: ['banana', 'cherry'] (index 1 to 2, excludes 3)\n",
    "print(fruits[:2])    # Output: ['apple', 'banana'] (start from 0 up to 2)\n",
    "print(fruits[2:])    # Output: ['cherry', 'date'] (start from index 2 to end)"
   ]
  },
  {
   "cell_type": "markdown",
   "metadata": {},
   "source": [
    "<hr>"
   ]
  },
  {
   "cell_type": "markdown",
   "metadata": {},
   "source": [
    "### 3️⃣ Adding & Removing Elements\n",
    "\n",
    "#### Adding Elements\n",
    "- .append() → Adds an element to the end.\n",
    "- .insert() → Inserts at a specific position.\n",
    "\n",
    "Example:"
   ]
  },
  {
   "cell_type": "code",
   "execution_count": null,
   "metadata": {},
   "outputs": [],
   "source": [
    "numbers = [1, 2, 3]\n",
    "numbers.append(4)   # Adds 4 at the end\n",
    "print(numbers)      # Output: [1, 2, 3, 4]\n",
    "\n",
    "numbers.insert(1, 10)  # Inserts 10 at index 1\n",
    "print(numbers)      # Output: [1, 10, 2, 3, 4]"
   ]
  },
  {
   "cell_type": "markdown",
   "metadata": {},
   "source": [
    "#### Removing Elements\n",
    "- .remove(value) → Removes first occurrence of value.\n",
    "- .pop(index) → Removes element at index (default is last).\n",
    "\n",
    "Example:"
   ]
  },
  {
   "cell_type": "code",
   "execution_count": null,
   "metadata": {},
   "outputs": [],
   "source": [
    "numbers.remove(10)   # Removes the value 10\n",
    "print(numbers)       # Output: [1, 2, 3, 4]\n",
    "\n",
    "numbers.pop(2)       # Removes element at index 2\n",
    "print(numbers)       # Output: [1, 2, 4]"
   ]
  },
  {
   "cell_type": "markdown",
   "metadata": {},
   "source": [
    "<hr>"
   ]
  },
  {
   "cell_type": "markdown",
   "metadata": {},
   "source": [
    "### Popcorn hack 1"
   ]
  },
  {
   "cell_type": "markdown",
   "metadata": {},
   "source": [
    "Write a Python program that:\n",
    "\n",
    "1) Creates a list of your 3 favorite movies.\n",
    "2) Adds a new movie to the list.\n",
    "3) Removes the second movie from the list.\n",
    "4) Prints the final list.\n",
    "\n"
   ]
  },
  {
   "cell_type": "code",
   "execution_count": null,
   "metadata": {},
   "outputs": [],
   "source": [
    "import ipywidgets as widgets\n",
    "from IPython.display import display, Code\n",
    "\n",
    "# Define the Python code as a string\n",
    "code_str = \"\"\"# Step 1: Create a list of 3 favorite movies\n",
    "movies = [\"Inception\", \"Interstellar\", \"The Dark Knight\"]\n",
    "\n",
    "# Step 2: Add a new movie to the list\n",
    "movies.append(\"Parasite\")\n",
    "\n",
    "# Step 3: Remove the second movie from the list\n",
    "movies.pop(1)  # Removes \"Interstellar\"\n",
    "\n",
    "# Step 4: Print the final list\n",
    "print(\"Final movie list:\", movies)\n",
    "\"\"\"\n",
    "\n",
    "# Create a button widget\n",
    "button = widgets.Button(description=\"Show Answer\", button_style=\"info\")\n",
    "\n",
    "# Define a function to display the code when the button is clicked\n",
    "def show_code(b):\n",
    "    display(Code(code_str, language=\"python\"))\n",
    "\n",
    "# Attach the function to the button click event\n",
    "button.on_click(show_code)\n",
    "\n",
    "# Display the button\n",
    "display(button)"
   ]
  },
  {
   "cell_type": "markdown",
   "metadata": {},
   "source": [
    "<hr>"
   ]
  },
  {
   "cell_type": "markdown",
   "metadata": {},
   "source": [
    "## Filtering Lists"
   ]
  },
  {
   "cell_type": "markdown",
   "metadata": {},
   "source": [
    "📌 Concepts:\n",
    "- List Comprehension\n",
    "- filter() Function"
   ]
  },
  {
   "cell_type": "markdown",
   "metadata": {},
   "source": [
    "### 1️⃣ List Comprehension\n",
    "\n",
    "List comprehension is a concise way to create lists by filtering or modifying elements in a single line of code.\n",
    "\n",
    "Basic syntax:"
   ]
  },
  {
   "cell_type": "code",
   "execution_count": null,
   "metadata": {},
   "outputs": [],
   "source": [
    "from ast import Expression\n",
    "from asyncio import Condition\n",
    "from typing import Iterable\n",
    "\n",
    "\n",
    "new_list = [Expression for item in Iterable if Condition]"
   ]
  },
  {
   "cell_type": "markdown",
   "metadata": {},
   "source": [
    "Components:\n",
    "1) Expression → The operation or transformation applied to each item.\n",
    "2) Item → Each element in the iterable (e.g., list, range, string).\n",
    "3) Iterable → The source of data (e.g., list, tuple, range).\n",
    "4) Condition (Optional) → A filter that selects only specific elements.\n",
    "\n",
    "\n",
    "Basic Example: Filtering Even Numbers"
   ]
  },
  {
   "cell_type": "code",
   "execution_count": null,
   "metadata": {},
   "outputs": [],
   "source": [
    "numbers = [1, 2, 3, 4, 5, 6, 7, 8, 9, 10]\n",
    "\n",
    "# Using list comprehension to get only even numbers\n",
    "even_numbers = [num for num in numbers if num % 2 == 0]\n",
    "\n",
    "print(even_numbers)  # Output: [2, 4, 6, 8, 10]"
   ]
  },
  {
   "cell_type": "markdown",
   "metadata": {},
   "source": [
    "🔹 Explanation:\n",
    "- num for num in numbers → Iterates through each number.\n",
    "- if num % 2 == 0 → Filters out even numbers only."
   ]
  },
  {
   "cell_type": "markdown",
   "metadata": {},
   "source": [
    "Example: Filtering Words by Length"
   ]
  },
  {
   "cell_type": "code",
   "execution_count": null,
   "metadata": {},
   "outputs": [],
   "source": [
    "words = [\"apple\", \"banana\", \"cherry\", \"date\", \"fig\", \"grape\"]\n",
    "short_words = [word for word in words if len(word) <= 5]\n",
    "\n",
    "print(short_words)  # Output: ['apple', 'date', 'fig']"
   ]
  },
  {
   "cell_type": "markdown",
   "metadata": {},
   "source": [
    "<hr>"
   ]
  },
  {
   "cell_type": "markdown",
   "metadata": {},
   "source": [
    "### 2️⃣ filter() Function\n",
    "\n",
    "The filter() function is used to filter elements in an iterable based on a function that returns True or False.\n",
    "\n",
    "Basic Syntax:"
   ]
  },
  {
   "cell_type": "code",
   "execution_count": null,
   "metadata": {},
   "outputs": [],
   "source": [
    "filtered_list = filter(function, Iterable)"
   ]
  },
  {
   "cell_type": "markdown",
   "metadata": {},
   "source": [
    "Components:\n",
    "1) function → A function that returns True or False for each element.\n",
    "2) iterable → The collection (e.g., list, tuple) to be filtered.\n",
    "3) filter() returns an iterator, so it needs to be converted to a list using list(filter(...)).\n",
    "\n",
    "\n",
    "Example: Filtering Odd Numbers"
   ]
  },
  {
   "cell_type": "code",
   "execution_count": null,
   "metadata": {},
   "outputs": [],
   "source": [
    "numbers = [1, 2, 3, 4, 5, 6, 7, 8, 9, 10]\n",
    "\n",
    "# Function to check if a number is odd\n",
    "def is_odd(num):\n",
    "    return num % 2 != 0\n",
    "\n",
    "odd_numbers = list(filter(is_odd, numbers))\n",
    "\n",
    "print(odd_numbers)  # Output: [1, 3, 5, 7, 9]"
   ]
  },
  {
   "cell_type": "markdown",
   "metadata": {},
   "source": [
    "🔹 Explanation:\n",
    "- is_odd(num) returns True for odd numbers.\n",
    "- filter(is_odd, numbers) keeps only True values.\n",
    "\n",
    "Example: Filtering Names That Start with \"A\""
   ]
  },
  {
   "cell_type": "code",
   "execution_count": null,
   "metadata": {},
   "outputs": [],
   "source": [
    "names = [\"Alice\", \"Bob\", \"Amanda\", \"Charlie\", \"Andrew\"]\n",
    "\n",
    "a_names = list(filter(lambda name: name.startswith(\"A\"), names))\n",
    "\n",
    "print(a_names)  # Output: ['Alice', 'Amanda', 'Andrew']"
   ]
  },
  {
   "cell_type": "markdown",
   "metadata": {},
   "source": [
    "🔹 Explanation:\n",
    "- The lambda function checks if a name starts with \"A\".\n",
    "- filter() keeps only names that satisfy the condition."
   ]
  },
  {
   "cell_type": "markdown",
   "metadata": {},
   "source": [
    "<hr>"
   ]
  },
  {
   "cell_type": "markdown",
   "metadata": {},
   "source": [
    "### Popcorn Hack 2"
   ]
  },
  {
   "cell_type": "markdown",
   "metadata": {},
   "source": [
    "Write a Python program that:\n",
    "\n",
    "1) Create a list of numbers from 1 to 10.\n",
    "2) Filter out even numbers using list comprehension.\n",
    "3) Square the even numbers in the same step.\n",
    "4) Display the result in a dropdown after clicking a button."
   ]
  },
  {
   "cell_type": "code",
   "execution_count": null,
   "metadata": {},
   "outputs": [],
   "source": [
    "import ipywidgets as widgets\n",
    "from IPython.display import display\n",
    "\n",
    "# Function to show output when button is clicked\n",
    "def show_output(change):\n",
    "    numbers = [1, 2, 3, 4, 5, 6, 7, 8, 9, 10]\n",
    "    squared_evens = [num ** 2 for num in numbers if num % 2 == 0]\n",
    "    output_dropdown.options = squared_evens\n",
    "\n",
    "# Create button and dropdown\n",
    "button = widgets.Button(description=\"Show Squared Evens\")\n",
    "output_dropdown = widgets.Dropdown(description=\"Results\", options=[])\n",
    "\n",
    "# Attach button click event\n",
    "button.on_click(show_output)\n",
    "\n",
    "# Display widgets\n",
    "display(button, output_dropdown)\n"
   ]
  },
  {
   "cell_type": "markdown",
   "metadata": {},
   "source": [
    "<hr>"
   ]
  },
  {
   "cell_type": "markdown",
   "metadata": {},
   "source": [
    "# Algorithims "
   ]
  },
  {
   "cell_type": "markdown",
   "metadata": {},
   "source": [
    "### Searching Algorithims"
   ]
  },
  {
   "cell_type": "markdown",
   "metadata": {},
   "source": [
    "🔹 Concepts:\n",
    "- Linear Search: Checks each element one by one (O(n)).\n",
    "- Binary Search: Faster but requires a sorted list (O(log n)).\n",
    "\n",
    "Example:"
   ]
  },
  {
   "cell_type": "code",
   "execution_count": null,
   "metadata": {},
   "outputs": [],
   "source": [
    "def find_first_rotten(apples):\n",
    "    low, high = 0, len(apples) - 1\n",
    "    \n",
    "    while low < high:  \n",
    "        mid = (low + high) // 2\n",
    "        high = mid if apples[mid] == \"rotten\" else high\n",
    "        low = mid + 1 if apples[mid] == \"fresh\" else low\n",
    "\n",
    "    return low if apples[low] == \"rotten\" else -1  \n",
    "\n",
    "# Example batch (sorted: fresh → rotten)\n",
    "apples = [\"fresh\", \"fresh\", \"fresh\", \"rotten\", \"rotten\", \"rotten\"]\n",
    "print(find_first_rotten(apples))  # Output: 3"
   ]
  },
  {
   "cell_type": "markdown",
   "metadata": {},
   "source": [
    "- Binary Search (O(log n)): Quickly narrows down where \"rotten\" apples start.\n",
    "- Linear Check (O(1)): Ensures we found the first \"rotten\" apple.\n",
    "- Efficient Hybrid: Combines speed of binary search with accuracy of linear search. 🚀"
   ]
  },
  {
   "cell_type": "markdown",
   "metadata": {},
   "source": [
    "<hr>"
   ]
  },
  {
   "cell_type": "markdown",
   "metadata": {},
   "source": [
    "### Popcorn Hack 3"
=======
    "4. Modifying List Elements\n",
    "Lists are mutable, meaning you can modify an element by referring to its index and assigning it a new value."
>>>>>>> a6f5658 (editing lists and adding filtering algo)
   ]
  },
  {
   "cell_type": "markdown",
   "metadata": {},
   "source": [
    "Write a Python program that:\n",
    "\n",
    "1) Initialize Variables: Set start_time to 0, max_time to 120 seconds, and pop_rate to 1 second per pop.​\n",
    "2) Simulate Microwaving Process: Increment start_time by 1 each loop iteration, representing each second of microwaving.​\n",
    "3) Monitor Popping Rate: If pop_rate reaches or exceeds 3 seconds per pop, exit the loop to prevent overcooking.​\n",
    "4) Assess Popcorn Status: After stopping, check for unpopped kernels using check_unpopped_kernels(). If kernels remain, suggest microwaving for an additional 10 seconds; otherwise, indicate the popcorn is ready to enjoy."
   ]
  },
  {
   "cell_type": "code",
   "execution_count": 4,
   "metadata": {},
   "outputs": [
    {
     "name": "stdout",
     "output_type": "stream",
     "text": [
      "['apple', 'blueberry', 'cherry']\n"
     ]
    }
   ],
   "source": [
    "fruits[1] = \"blueberry\"  # Changes 'banana' to 'blueberry'\n",
    "print(fruits)  # Output: ['apple', 'blueberry', 'cherry']"
   ]
  },
  {
   "cell_type": "markdown",
   "metadata": {},
   "source": [
    "5. Adding Elements to a List\n",
    "- You can add elements to a list in two main ways:\n",
    "    - append(): Adds an item to the end of the list.\n",
    "    - insert(index, item): Adds an item at a specific position in the list.\n",
    "\n"
   ]
  },
  {
   "cell_type": "code",
   "execution_count": 5,
   "metadata": {},
   "outputs": [
    {
     "name": "stdout",
     "output_type": "stream",
     "text": [
      "['apple', 'blueberry', 'cherry', 'mango']\n",
      "['apple', 'orange', 'blueberry', 'cherry', 'mango']\n"
     ]
    }
   ],
   "source": [
    "# Append a new fruit to the end\n",
    "fruits.append(\"mango\")\n",
    "print(fruits)  # Output: ['apple', 'blueberry', 'cherry', 'mango']\n",
    "\n",
    "# Insert a fruit at the second position\n",
    "fruits.insert(1, \"orange\")\n",
    "print(fruits)  # Output: ['apple', 'orange', 'blueberry', 'cherry', 'mango']\n"
   ]
  },
  {
   "cell_type": "markdown",
   "metadata": {},
   "source": [
    "6. Removing Elements from a List\n",
    "- You can remove elements from a list using:\n",
    "    - remove(item): Removes the first occurrence of a specific item.\n",
    "    - pop(index): Removes and returns an item at a specific index."
   ]
  },
  {
   "cell_type": "code",
   "execution_count": null,
   "metadata": {},
   "outputs": [],
   "source": [
    "# Remove an item by name\n",
    "fruits.remove(\"cherry\")\n",
    "print(fruits)  # Output: ['apple', 'orange', 'blueberry', 'mango']\n",
    "\n",
    "# Pop an item from a specific index (removes and returns the item)\n",
    "fruits.pop(2)  # Removes 'blueberry' from index 2\n",
    "print(fruits)  # Output: ['apple', 'orange', 'mango']"
   ]
  },
  {
   "cell_type": "markdown",
   "metadata": {},
   "source": [
    "7. List Comprehension\n",
    "\n",
    "- List comprehension allows you to create a new list by applying an expression to each item in an existing list. It's a concise and powerful way to generate lists."
   ]
  },
  {
   "cell_type": "code",
   "execution_count": null,
   "metadata": {},
   "outputs": [],
   "source": [
    "# Square each number in the list\n",
    "numbers = [1, 2, 3, 4, 5]\n",
    "squares = [x**2 for x in numbers]\n",
    "print(squares)  # Output: [1, 4, 9, 16, 25]"
   ]
  },
  {
   "cell_type": "markdown",
   "metadata": {},
   "source": [
    "### Popcorn Hack #2: List Comprehension\n",
    "- Filtering a list only include even numbers\n"
   ]
  },
  {
   "cell_type": "markdown",
   "metadata": {},
   "source": [
    "#### Examples of All Concepts:"
   ]
  },
  {
   "cell_type": "code",
   "execution_count": null,
   "metadata": {},
   "outputs": [],
   "source": [
    "# 1. Create a list of fruits\n",
    "fruits = [\"apple\", \"banana\", \"cherry\"]\n",
    "print(\"Original List:\", fruits)\n",
    "\n",
    "# 2. Access the first fruit\n",
    "print(\"First fruit:\", fruits[0])\n",
    "\n",
    "# 3. Modify the second fruit\n",
    "fruits[1] = \"blueberry\"\n",
    "print(\"Modified List:\", fruits)\n",
    "\n",
    "# 4. Add a fruit at the end\n",
    "fruits.append(\"mango\")\n",
    "print(\"After Append:\", fruits)\n",
    "\n",
    "# 5. Insert a fruit at the second position\n",
    "fruits.insert(1, \"orange\")\n",
    "print(\"After Insert:\", fruits)\n",
    "\n",
    "# 6. Remove a fruit by name\n",
    "fruits.remove(\"cherry\")\n",
    "print(\"After Remove:\", fruits)\n",
    "\n",
    "# 7. Pop a fruit from the third position\n",
    "fruits.pop(2)\n",
    "print(\"After Pop:\", fruits)\n",
    "\n",
    "# 8. List comprehension to square numbers\n",
    "numbers = [1, 2, 3, 4, 5]\n",
    "squares = [x**2 for x in numbers]\n",
    "print(\"Squares:\", squares)\n"
   ]
  },
  {
   "cell_type": "markdown",
   "metadata": {},
   "source": [
    "# Filtering Algorithims "
   ]
  },
  {
   "cell_type": "markdown",
   "metadata": {},
   "source": [
    "- 📋 List: Stores multiple related items (e.g., numbers, words).\n",
    "\n",
    "- ➕ At least one item must be added via computation, not all hardcoded.\n",
    "\n",
    "- 🔍 Filtering algorithm:\n",
    "    - Loops through the list\n",
    "    - Checks a condition\n",
    "    - Stores matching items in a new list."
   ]
  },
  {
   "cell_type": "code",
   "execution_count": null,
   "metadata": {},
   "outputs": [],
   "source": [
    "# Create an empty list\n",
    "scores = []\n",
    "\n",
    "# Add elements using computation (not hardcoded)\n",
    "for i in range(1, 6):  # Adds numbers 1 to 5\n",
    "    scores.append(i * 10)  # Appends 10, 20, 30, 40, 50\n",
    "\n",
    "# Create a new list to store filtered values\n",
    "high_scores = []\n",
    "\n",
    "# Filtering algorithm: check for scores > 25\n",
    "for score in scores:\n",
    "    if score > 25:\n",
    "        high_scores.append(score)  # Adds only scores above 25\n",
    "\n",
    "# Output the filtered list\n",
    "print(\"All Scores:\", scores)\n",
    "print(\"High Scores:\", high_scores)\n"
   ]
  },
  {
   "cell_type": "markdown",
   "metadata": {},
   "source": [
    "<hr>"
   ]
  },
  {
   "cell_type": "markdown",
   "metadata": {},
   "source": [
    "<a href=\"https://docs.google.com/forms/d/11dGlEa6Pk0lk_CQTZKSOYLBX7jVPPRZzgQ8ISFcqOUU/edit\" class=\"button\">\n",
    "  Open Homework Form\n",
    "</a>\n",
    "\n",
    "<style>\n",
    "  .button {\n",
    "    display: inline-block;\n",
    "    padding: 10px 20px;\n",
    "    background-color: #4CAF50;\n",
    "    color: white;\n",
    "    text-align: center;\n",
    "    text-decoration: none;\n",
    "    border-radius: 5px;\n",
    "  }\n",
    "  .button:hover {\n",
    "    background-color: #45a049;\n",
    "  }\n",
    "</style>\n"
   ]
  }
 ],
 "metadata": {
  "kernelspec": {
   "display_name": "venv",
   "language": "python",
   "name": "python3"
  },
  "language_info": {
   "codemirror_mode": {
    "name": "ipython",
    "version": 3
   },
   "file_extension": ".py",
   "mimetype": "text/x-python",
   "name": "python",
   "nbconvert_exporter": "python",
   "pygments_lexer": "ipython3",
   "version": "3.13.2"
  }
 },
 "nbformat": 4,
 "nbformat_minor": 2
}
