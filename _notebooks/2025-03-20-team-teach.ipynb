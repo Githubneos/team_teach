{
 "cells": [
  {
   "cell_type": "markdown",
   "metadata": {},
   "source": [
    "---\n",
    "title: Lists and Filtering Algorithms (period 2) - Zafeer A, Keerthan K, Hithin P\n",
    "layout: post\n",
    "type: issues \n",
    "comments: true\n",
    "permalink: Lists_Algorithms\n",
    "---"
   ]
  },
  {
   "cell_type": "markdown",
   "metadata": {},
   "source": [
    "# What is a list?"
   ]
  },
  {
   "cell_type": "markdown",
   "metadata": {},
   "source": [
    "College Board Definition: A list is an ordered sequence of elements. The use of lists allows multiple related items to be represented using a single variable."
   ]
  },
  {
   "cell_type": "markdown",
   "metadata": {},
   "source": [
    "# What does this mean ? \n",
    "A list is something that holds multiple things in one variable, kinda like a basket holding multiple things. "
   ]
  },
  {
   "cell_type": "markdown",
   "metadata": {},
   "source": [
    "# Whats wrong with this method of data collection?"
   ]
  },
  {
   "cell_type": "markdown",
   "metadata": {},
   "source": [
    "<div style=\"margin-bottom: 1rem;\">\n",
    "  <pre style=\"background:rgb(177, 234, 253); color: #ffffff; padding: 12px; border-radius: 8px; margin-bottom: 10px;\"><code>\n",
    "score1 = 87\n",
    "score2 = 90\n",
    "score3 = 85\n",
    "score4 = 70\n",
    "score5 = 80\n",
    "</code></pre>\n",
    "  <pre style=\"background:rgb(177, 234, 253); color: #ffffff; padding: 12px; border-radius: 8px;\"><code>\n",
    "scores = [87, 90, 85, 70, 80]\n",
    "</code></pre>\n",
    "</div>\n",
    "\n",
    "With list — much easier to loop, modify, and organize\n"
   ]
  },
  {
   "cell_type": "markdown",
   "metadata": {},
   "source": [
    "<a href=\"https://www.youtube.com/watch?v=n1exiRH00x0&t=20s\" target=\"_blank\" style=\"\n",
    "  display: inline-block;\n",
    "  padding: 12px 20px;\n",
    "  background: linear-gradient(135deg, #ff0000, #cc0000);\n",
    "  color: white;\n",
    "  font-weight: bold;\n",
    "  border-radius: 8px;\n",
    "  text-decoration: none;\n",
    "  font-family: 'Segoe UI', sans-serif;\n",
    "  box-shadow: 0 4px 10px rgba(0,0,0,0.2);\n",
    "  transition: all 0.2s ease-in-out;\n",
    "\">\n",
    "  ▶️ Watch: Intro to Lists\n",
    "</a>\n"
   ]
  },
  {
   "cell_type": "markdown",
   "metadata": {},
   "source": [
    "# Popcorn Hack 1 \n",
    "\n",
    "What are some possible benefits of using lists? What are some real world examples of lists being used in code ?"
   ]
  },
  {
   "cell_type": "markdown",
   "metadata": {},
   "source": [
    "# Answer\n",
    "\n",
    "<details>\n",
    "<summary>🔍 Click to show answer</summary>\n",
    "\n",
    "Answer:\n",
    "- ✅ Store lots of data in one place\n",
    "\n",
    "- ✅ Access each item individually\n",
    "\n",
    "- ✅ Filter, sort, and organize that data\n",
    "\n",
    "</details>\n"
   ]
  },
  {
   "cell_type": "markdown",
   "metadata": {},
   "source": [
    "# Real world examples\n",
    "\n",
    "Without lists, you wouldn't have:\n",
    "\n",
    "1. Online Shopping Cart\n",
    "Every time you add an item, it goes into a list.\n",
    "Without a list, you'd only be able to add one item at a time — no checkout with multiple items.\n",
    "\n",
    "2. Inbox in Email Apps\n",
    "Your inbox is a list of emails.\n",
    "No list? You’d only ever see one email at a time.\n",
    "\n",
    "3. Music Playlist (Spotify, Apple Music)\n",
    "Every playlist is a list of songs.\n",
    "No list = only 1 song per playlist "
   ]
  },
  {
   "cell_type": "markdown",
   "metadata": {},
   "source": [
    "  <div id=\"123456\">\n",
    "    <img src=\"{{site.baseurl}}/images/graphic3.png\" style=\"height: 190px;\">\n",
    "  </div>\n",
    "<br><br>"
   ]
  },
  {
   "cell_type": "markdown",
   "metadata": {},
   "source": [
    "# Working with Lists"
   ]
  },
  {
   "cell_type": "markdown",
   "metadata": {},
   "source": [
    "1. Creating a List\n",
    "You create a list by placing items inside square brackets [] and separating them with commas. You can store any type of data in a list: strings, numbers, or even other lists."
   ]
  },
  {
   "cell_type": "code",
   "execution_count": 3,
   "metadata": {},
   "outputs": [
    {
     "name": "stdout",
     "output_type": "stream",
     "text": [
      "['BMW', 'Honda', ['Ford', 'Ferrari', 1922]]\n"
     ]
    }
   ],
   "source": [
    "List1 = [\"Ford\", \"Ferrari\", 1922]\n",
    "List2 = [\"BMW\", \"Honda\", List1]\n",
    "print(List2)  \n"
   ]
  },
  {
   "cell_type": "markdown",
   "metadata": {},
   "source": [
    "2. Accessing List Elements\n",
    "    - You can access any element in the list by using its index. The index starts at 0 for the first element."
   ]
  },
  {
   "cell_type": "code",
   "execution_count": 5,
   "metadata": {},
   "outputs": [
    {
     "name": "stdout",
     "output_type": "stream",
     "text": [
      "Jaguar\n",
      "Ford\n"
     ]
    }
   ],
   "source": [
    "cars = [\"Jaguar\", \"Ford\", \"Kia\"]\n",
    "print(cars[0])  # Output: apple\n",
    "print(cars[1])  # Output: banana"
   ]
  },
  {
   "cell_type": "markdown",
   "metadata": {},
   "source": [
    "3. Modifying List Elements\n",
    "Lists are mutable, meaning you can modify an element by referring to its index and assigning it a new value."
   ]
  },
  {
   "cell_type": "code",
   "execution_count": null,
   "metadata": {},
   "outputs": [
    {
     "name": "stdout",
     "output_type": "stream",
     "text": [
      "['apple', 'blueberry', 'cherry']\n"
     ]
    }
   ],
   "source": [
    "cars[1] = \"Rivian\"  \n",
    "print(cars)  "
   ]
  },
  {
   "cell_type": "markdown",
   "metadata": {},
   "source": [
    "4. Adding Elements to a List\n",
    "- You can add elements to a list in two main ways:\n",
    "    - append(): Adds an item to the end of the list.\n",
    "    - insert(index, item): Adds an item at a specific position in the list.\n",
    "\n"
   ]
  },
  {
   "cell_type": "code",
   "execution_count": 6,
   "metadata": {},
   "outputs": [
    {
     "name": "stdout",
     "output_type": "stream",
     "text": [
      "['Jaguar', 'Ford', 'Kia', 'BMW']\n",
      "['Jaguar', 'Mazda', 'Ford', 'Kia', 'BMW']\n"
     ]
    }
   ],
   "source": [
    "# Append a new fruit to the end\n",
    "cars.append(\"BMW\")\n",
    "print(cars)  # Output: ['apple', 'blueberry', 'cherry', 'mango']\n",
    "\n",
    "# Insert a car at the second position\n",
    "cars.insert(1, \"Mazda\")\n",
    "print(cars)  \n"
   ]
  },
  {
   "cell_type": "markdown",
   "metadata": {},
   "source": [
    "5. Removing Elements from a list"
   ]
  },
  {
   "cell_type": "code",
   "execution_count": 3,
   "metadata": {},
   "outputs": [
    {
     "name": "stdout",
     "output_type": "stream",
     "text": [
      "['cat', 'fish']\n"
     ]
    }
   ],
   "source": [
    "animals = [\"cat\", \"dog\", \"fish\"]\n",
    "animals.pop(1)  # removes \"dog\"\n",
    "print(animals)\n"
   ]
  },
  {
   "cell_type": "markdown",
   "metadata": {},
   "source": [
    "6. Slicing up a list"
   ]
  },
  {
   "cell_type": "code",
   "execution_count": 4,
   "metadata": {},
   "outputs": [
    {
     "name": "stdout",
     "output_type": "stream",
     "text": [
      "[10, 20, 30, 40, 50]\n"
     ]
    }
   ],
   "source": [
    "numbers = [10, 20, 30, 40, 50, 60, 70, 80, 90, 100]\n",
    "first_five = numbers[0:5]\n",
    "print(first_five)\n"
   ]
  },
  {
   "cell_type": "markdown",
   "metadata": {},
   "source": [
    "<h2>📋 Common List Procedures </h2>\n",
    "<table style=\"\n",
    "  width: 100%;\n",
    "  border-collapse: collapse;\n",
    "  margin: 1rem 0;\n",
    "  font-family: 'Segoe UI', sans-serif;\n",
    "  font-size: 16px;\n",
    "\">\n",
    "  <thead>\n",
    "    <tr>\n",
    "      <th style=\"border-bottom: 2px solid #555; padding: 12px; text-align: left;\">Procedure</th>\n",
    "      <th style=\"border-bottom: 2px solid #555; padding: 12px; text-align: left;\">Description</th>\n",
    "      <th style=\"border-bottom: 2px solid #555; padding: 12px; text-align: left;\">Example</th>\n",
    "    </tr>\n",
    "  </thead>\n",
    "  <tbody>\n",
    "    <tr>\n",
    "      <td style=\"border-bottom: 1px solid #aaa; padding: 10px;\">append(item)</td>\n",
    "      <td style=\"border-bottom: 1px solid #aaa; padding: 10px;\">Adds an item to the end of the list</td>\n",
    "      <td style=\"border-bottom: 1px solid #aaa; padding: 10px;\">scores.append(100)</td>\n",
    "    </tr>\n",
    "    <tr>\n",
    "      <td style=\"border-bottom: 1px solid #aaa; padding: 10px;\">insert(index, item)</td>\n",
    "      <td style=\"border-bottom: 1px solid #aaa; padding: 10px;\">Inserts an item at a specific position</td>\n",
    "      <td style=\"border-bottom: 1px solid #aaa; padding: 10px;\">scores.insert(1, 95)</td>\n",
    "    </tr>\n",
    "    <tr>\n",
    "      <td style=\"border-bottom: 1px solid #aaa; padding: 10px;\">remove(item)</td>\n",
    "      <td style=\"border-bottom: 1px solid #aaa; padding: 10px;\">Removes the first matching item</td>\n",
    "      <td style=\"border-bottom: 1px solid #aaa; padding: 10px;\">scores.remove(87)</td>\n",
    "    </tr>\n",
    "    <tr>\n",
    "      <td style=\"border-bottom: 1px solid #aaa; padding: 10px;\">pop(index)</td>\n",
    "      <td style=\"border-bottom: 1px solid #aaa; padding: 10px;\">Removes and returns the item at the given index</td>\n",
    "      <td style=\"border-bottom: 1px solid #aaa; padding: 10px;\">scores.pop(2)</td>\n",
    "    </tr>\n",
    "    <tr>\n",
    "      <td style=\"border-bottom: 1px solid #aaa; padding: 10px;\">len(list)</td>\n",
    "      <td style=\"border-bottom: 1px solid #aaa; padding: 10px;\">Returns the number of items in the list</td>\n",
    "      <td style=\"border-bottom: 1px solid #aaa; padding: 10px;\">len(scores)</td>\n",
    "    </tr>\n",
    "    <tr>\n",
    "      <td style=\"border-bottom: 1px solid #aaa; padding: 10px;\">slice[start:end]</td>\n",
    "      <td style=\"border-bottom: 1px solid #aaa; padding: 10px;\">Returns a portion of the list</td>\n",
    "      <td style=\"border-bottom: 1px solid #aaa; padding: 10px;\">scores[0:3]</td>\n",
    "    </tr>\n",
    "    <tr>\n",
    "      <td style=\"border-bottom: 1px solid #aaa; padding: 10px;\">sort()</td>\n",
    "      <td style=\"border-bottom: 1px solid #aaa; padding: 10px;\">Sorts the list in ascending order</td>\n",
    "      <td style=\"border-bottom: 1px solid #aaa; padding: 10px;\">scores.sort()</td>\n",
    "    </tr>\n",
    "    <tr>\n",
    "      <td style=\"border-bottom: 1px solid #aaa; padding: 10px;\">reverse()</td>\n",
    "      <td style=\"border-bottom: 1px solid #aaa; padding: 10px;\">Reverses the order of the list</td>\n",
    "      <td style=\"border-bottom: 1px solid #aaa; padding: 10px;\">scores.reverse()</td>\n",
    "    </tr>\n",
    "    <tr>\n",
    "      <td style=\"border-bottom: 1px solid #aaa; padding: 10px;\">clear()</td>\n",
    "      <td style=\"border-bottom: 1px solid #aaa; padding: 10px;\">Removes all elements from the list</td>\n",
    "      <td style=\"border-bottom: 1px solid #aaa; padding: 10px;\">scores.clear()</td>\n",
    "    </tr>\n",
    "    <tr>\n",
    "      <td style=\"border-bottom: 1px solid #aaa; padding: 10px;\">index(item)</td>\n",
    "      <td style=\"border-bottom: 1px solid #aaa; padding: 10px;\">Returns the index of the first matching item</td>\n",
    "      <td style=\"border-bottom: 1px solid #aaa; padding: 10px;\">scores.index(90)</td>\n",
    "    </tr>\n",
    "  </tbody>\n",
    "</table>\n"
   ]
  },
  {
   "cell_type": "markdown",
   "metadata": {},
   "source": [
    "# Popcorn Hack 2\n",
    "\n",
    "What does this code output?"
   ]
  },
  {
   "cell_type": "code",
   "execution_count": null,
   "metadata": {},
   "outputs": [],
   "source": [
    "items = [\"pen\", \"pencil\", \"marker\", \"eraser\"]\n",
    "items.remove(\"pencil\")\n",
    "items.append(\"sharpener\")\n",
    "print(items[2])"
   ]
  },
  {
   "cell_type": "markdown",
   "metadata": {},
   "source": [
    "# Traversing a List\n",
    "\n",
    "  <div id=\"123456\">\n",
    "    <img src=\"{{site.baseurl}}/images/cb2.png\" style=\"height: 190px;\">\n",
    "  </div>\n",
    "<br><br>\n",
    "\n",
    "College Board requires that students know how to traverse a list. \n",
    "\n",
    "Traversing a list means going through each item one by one using a loop. Traversing lists are a key factor in creating filtering algorithms."
   ]
  },
  {
   "cell_type": "code",
   "execution_count": null,
   "metadata": {},
   "outputs": [],
   "source": [
    "colors = [\"red\", \"blue\", \"green\", \"yellow\"]\n",
    "\n",
    "for color in colors:\n",
    "    print(\"Color:\", color)\n"
   ]
  },
  {
   "cell_type": "markdown",
   "metadata": {},
   "source": [
    "Real life Examples:\n",
    "\n",
    "- 📧 Emails - Check each email and mark unread ones\n",
    "- 🎮 Game Scores - Add all scores to find the total\n",
    "- 🛍️ Shopping - Find cheapest item\n",
    "- 📊 Data Analysis - Count how many items meet a condition"
   ]
  },
  {
   "cell_type": "markdown",
   "metadata": {},
   "source": [
    "# Traversal List with Conditions"
   ]
  },
  {
   "cell_type": "code",
   "execution_count": null,
   "metadata": {},
   "outputs": [
    {
     "name": "stdout",
     "output_type": "stream",
     "text": [
      "Grades above 90: [92, 98]\n"
     ]
    }
   ],
   "source": [
    "grades = [85, 92, 76, 98, 88]\n",
    "above_90 = []\n",
    "\n",
    "for grade in grades:\n",
    "    if grade > 90:\n",
    "        above_90.append(grade)\n",
    "\n",
    "print(\"Grades above 90:\", above_90)\n",
    "# Using iteration + selection (if statement) to create a filtered list."
   ]
  },
  {
   "cell_type": "markdown",
   "metadata": {},
   "source": [
    "# Why do we need to know about lists for AP CSP?\n",
    "\n",
    "<details>\n",
    "<summary>📌 Lists are needed for...</summary>\n",
    "\n",
    "<p>\n",
    "✅ College Board requires the use of lists for the \n",
    "<a href=\"https://apcentral.collegeboard.org/media/pdf/ap-csp-student-task-directions.pdf\" target=\"_blank\">\n",
    "Create Performance Task\n",
    "</a>.\n",
    "</p>\n",
    "\n",
    "<p>\n",
    "✅ Lists are also part of <strong>Big Idea 3</strong> in the AP CSP curriculum (Section 3.10) and will appear on the MCQ.\n",
    "</p>\n",
    "</details>\n",
    "\n",
    "<div id=\"123456\">\n",
    "  <img src=\"{{site.baseurl}}/images/lists.png\" style=\"height: 190px;\">\n",
    "</div>\n",
    "<br><br>\n"
   ]
  },
  {
   "cell_type": "markdown",
   "metadata": {},
   "source": [
    "# Example College Board question\n",
    "\n",
    "  <div id=\"123456\">\n",
    "    <img src=\"{{site.baseurl}}/images/collegeboard.png\" style=\"width: 1900px;\">\n",
    "  </div>\n",
    "<br><br>"
   ]
  },
  {
   "cell_type": "markdown",
   "metadata": {},
   "source": [
    "## Filtering Algorithim"
   ]
  },
  {
   "cell_type": "markdown",
   "metadata": {},
   "source": [
    "College Board states that an algorithim is \"a finite set of instructions that accomplish a specific task.\" They also say that \"Filtering algorithms are important tools for finding information and recognizing patterns in data.\"\n",
    "\n",
    "So what are they? \n",
    "\n",
    "In basic terms:\n",
    "\n",
    "- 🔍 Filtering algorithm:\n",
    "    - Loops through the list (TRAVERSAL LIST!)\n",
    "    - Checks a condition\n",
    "    - Stores matching items in a new list."
   ]
  },
  {
   "cell_type": "markdown",
   "metadata": {},
   "source": [
    "  <div id=\"123456\">\n",
    "    <img src=\"{{site.baseurl}}/images/filtering_algorithim.png\" style=\"height: 190px;\">\n",
    "  </div>\n",
    "<br><br>"
   ]
  },
  {
   "cell_type": "markdown",
   "metadata": {},
   "source": [
    "  <div id=\"123456\">\n",
    "    <img src=\"{{site.baseurl}}/images/cb4.png\" style=\"height: 190px;\">\n",
    "  </div>\n",
    "<br><br>"
   ]
  },
  {
   "cell_type": "markdown",
   "metadata": {},
   "source": [
    "# Example of a filtering algorithm"
   ]
  },
  {
   "cell_type": "code",
   "execution_count": 2,
   "metadata": {},
   "outputs": [
    {
     "name": "stdout",
     "output_type": "stream",
     "text": [
      "[8, 12, 14]\n"
     ]
    }
   ],
   "source": [
    "numbers = [3, 8, 12, 5, 7, 14]\n",
    "even_numbers = []\n",
    "\n",
    "for num in numbers:\n",
    "    if num % 2 == 0:\n",
    "        even_numbers.append(num)\n",
    "\n",
    "print(even_numbers)\n"
   ]
  },
  {
   "cell_type": "markdown",
   "metadata": {},
   "source": [
    "Start with a list: numbers = [3, 8, 12, 5, 7, 14]\n",
    "\n",
    "Traverse the list using a for loop.\n",
    "\n",
    "Apply a condition: if num % 2 == 0 (check if the number is even)\n",
    "\n",
    "Build a new list: even_numbers only contains items that meet the condition."
   ]
  },
  {
   "cell_type": "code",
   "execution_count": 4,
   "metadata": {},
   "outputs": [
    {
     "name": "stdout",
     "output_type": "stream",
     "text": [
      "Filtered names: ['Zafeer']\n"
     ]
    }
   ],
   "source": [
    "# List of names\n",
    "names = [\"Keerthan\", \"Zafeer\", \"Hitin\"]\n",
    "\n",
    "# Get user input\n",
    "search = input(\"Type part of a name to search: \").lower()\n",
    "\n",
    "# Create a filtered list\n",
    "filtered_names = []\n",
    "\n",
    "for name in names:\n",
    "    if name.lower().startswith(search):\n",
    "        filtered_names.append(name)\n",
    "\n",
    "# Show results\n",
    "print(\"Filtered names:\", filtered_names)\n"
   ]
  },
  {
   "cell_type": "markdown",
   "metadata": {},
   "source": [
    "Original list: names = [\"Keerthan\", \"Zafeer\", \"Hitin\"]\n",
    "\n",
    "User input: The user types part of a name (like \"K\").\n",
    "\n",
    "Traversal List: It loops through every name in the list \n",
    "\n",
    "Condition: It checks if each name starts with the user input.\n",
    "\n",
    "Filtering: It builds a new list of names that match."
   ]
  },
  {
   "cell_type": "markdown",
   "metadata": {},
   "source": [
    "# Popcorn Hack 3: What are some real world examples of filtering algorithms?\n",
    "\n",
    "<details>\n",
    "<summary>🔍 Click to show answer</summary>\n",
    "\n",
    "<ul>\n",
    "  <li>📧 <strong>Inbox</strong> → email is unread → <em>Unread emails only (new list)</em></li>\n",
    "  <li>🛒 <strong>Online Shopping</strong> → price &lt; $20 → <em>Discounted items (new list)</em></li>\n",
    "  <li>🎵 <strong>Spotify</strong> → Artist == \"Singer A\" → <em>Only songs by Singer A (new list)</em></li>\n",
    "</ul>\n",
    "\n",
    "<hr>\n",
    "\n",
    "✅ Goes through a list  \n",
    "🔎 Checks for a match  \n",
    "📤 Returns only the things that pass the test in a <strong>NEW</strong> list\n",
    "\n",
    "</details>\n",
    "\n",
    "---\n",
    "\n",
    "# How does it relate to Flask Projects?\n",
    "\n",
    "- Can filter through a database.\n",
    "\n",
    "1. A user types in a specific filter (what they are looking for)  \n",
    "2. Flask filters matching items from a backend database (e.g. SQL)  \n",
    "3. Flask uses jsonify to return the filtered list to the frontend\n"
   ]
  },
  {
   "cell_type": "markdown",
   "metadata": {},
   "source": [
    "# Additional Resources \n",
    "\n",
    "[My AP Classroom Daily Videos](https://apcentral.collegeboard.org/instructional-resources/ap-daily)  \n",
    "\n",
    "[List Comprehension](https://www.youtube.com/watch?v=l8mWvDUwOt4)\n",
    "\n",
    "[Lists and Iteration](https://www.youtube.com/watch?v=SMmuT7Eccrg)\n"
   ]
  },
  {
   "cell_type": "markdown",
   "metadata": {},
   "source": [
    "# Homework Hacks (Create Notebook file to run python code)\n",
    "\n",
    "Instructions:\n",
    "\n",
    "1) Create a list that includes at least five items\n",
    "\n",
    "Use at least three different list procedures:\n",
    "\n",
    "Label with comments where each list procedure is used and explain what it's doing.\n",
    "\n",
    "2) List Traversal\n",
    "Instructions:\n",
    "\n",
    "Write the steps for how you would go through your list one item at a time.\n",
    "\n",
    "Clearly describe how the traversal happens (loop type and structure).\n",
    "\n",
    "3) Filtering Algorithm (Use pandas - database filtering)\n",
    "Instructions:\n",
    "- Choose a condition\n",
    "- Write out the steps you would take to:\n",
    "- Start with a list\n",
    "- Go through each item (traversal)\n",
    "- Apply your condition\n",
    "\n",
    "Build a new list with only the items that pass your test\n",
    "\n",
    "✏️ Final Reflection (2 Sentences)\n",
    "Answer this:\n",
    "\n",
    "In two complete sentences, explain when and how filtering algorithms and lists are used in real life."
   ]
  },
  {
   "cell_type": "markdown",
   "metadata": {
    "vscode": {
     "languageId": "html"
    }
   },
   "source": [
    "<a href=\"https://docs.google.com/forms/d/e/1FAIpQLSdXK3MKwbleuzoaxBgEZT_zIQfRjUHmUSV8c4lbvhW9YlufWg/viewform?usp=dialog\" target=\"_blank\" style=\"\n",
    "  display: inline-block;\n",
    "  padding: 12px 24px;\n",
    "  background: linear-gradient(135deg, #1a73e8, #4285f4);\n",
    "  color: white;\n",
    "  font-weight: bold;\n",
    "  border-radius: 8px;\n",
    "  text-decoration: none;\n",
    "  box-shadow: 0 4px 10px rgba(0, 0, 0, 0.15);\n",
    "  transition: transform 0.2s ease, box-shadow 0.2s ease;\n",
    "\">\n",
    "  🚀 Fill Out the Google Form\n",
    "</a>\n"
   ]
  },
  {
   "cell_type": "markdown",
   "metadata": {},
   "source": [
    "## ALL POPCORN HACKS ARE EXTRA CREDIT (NOT MANDATORY)"
   ]
  }
 ],
 "metadata": {
  "kernelspec": {
   "display_name": "venv",
   "language": "python",
   "name": "python3"
  },
  "language_info": {
   "codemirror_mode": {
    "name": "ipython",
    "version": 3
   },
   "file_extension": ".py",
   "mimetype": "text/x-python",
   "name": "python",
   "nbconvert_exporter": "python",
   "pygments_lexer": "ipython3",
   "version": "3.12.3"
  }
 },
 "nbformat": 4,
 "nbformat_minor": 2
}
