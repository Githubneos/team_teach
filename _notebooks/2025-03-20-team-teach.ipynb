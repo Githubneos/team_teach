{
 "cells": [
  {
   "cell_type": "markdown",
   "metadata": {},
   "source": [
    "---\n",
    "layout: post\n",
    "type: issues \n",
    "comments: true\n",
    "permalink: Lists_Algorithims\n",
    "---"
   ]
  },
  {
   "cell_type": "markdown",
   "metadata": {},
   "source": []
  },
  {
   "cell_type": "markdown",
   "metadata": {},
   "source": [
    "https://www.youtube.com/watch?v=R9PTBwOzceo"
   ]
  },
  {
   "cell_type": "markdown",
   "metadata": {},
   "source": [
    "## Lists Basics"
   ]
  },
  {
   "cell_type": "markdown",
   "metadata": {},
   "source": [
    "📌 Concepts:\n",
    "- Creating & Modifying Lists\n",
    "- Indexing & Slicing\n",
    "- Adding & Removing Elements"
   ]
  },
  {
   "cell_type": "markdown",
   "metadata": {},
   "source": [
    "### 1️⃣ Creating & Modifying Lists\n",
    "\n",
    "Lists in Python are ordered, mutable (changeable), and can store multiple data types. You can create a list using square brackets [].\n",
    "\n",
    "Example: Creating List"
   ]
  },
  {
   "cell_type": "code",
   "execution_count": null,
   "metadata": {},
   "outputs": [],
   "source": [
    "# Creating a list of numbers\n",
    "numbers = [10, 20, 30, 40, 50]\n",
    "\n",
    "# Creating a list with different data types\n",
    "mixed_list = [1, \"hello\", 3.14, True]\n",
    "\n",
    "print(numbers)       # Output: [10, 20, 30, 40, 50]\n",
    "print(mixed_list)    # Output: [1, 'hello', 3.14, True]"
   ]
  },
  {
   "cell_type": "markdown",
   "metadata": {},
   "source": [
    "### 2️⃣ Indexing & Slicing\n",
    "\n",
    "#### Indexing:\n",
    "\n",
    "Python lists use zero-based indexing, meaning the first element is at index 0.\n",
    "\n",
    "Example:"
   ]
  },
  {
   "cell_type": "code",
   "execution_count": null,
   "metadata": {},
   "outputs": [],
   "source": [
    "fruits = [\"apple\", \"banana\", \"cherry\", \"date\"]\n",
    "\n",
    "print(fruits[0])   # Output: apple\n",
    "print(fruits[-1])  # Output: date (negative index counts from the end)"
   ]
  },
  {
   "cell_type": "markdown",
   "metadata": {},
   "source": [
    "#### Slicing:\n",
    "\n",
    "You can extract portions of a list using slicing.\n",
    "\n",
    "Example:"
   ]
  },
  {
   "cell_type": "code",
   "execution_count": null,
   "metadata": {},
   "outputs": [],
   "source": [
    "print(fruits[1:3])   # Output: ['banana', 'cherry'] (index 1 to 2, excludes 3)\n",
    "print(fruits[:2])    # Output: ['apple', 'banana'] (start from 0 up to 2)\n",
    "print(fruits[2:])    # Output: ['cherry', 'date'] (start from index 2 to end)"
   ]
  },
  {
   "cell_type": "markdown",
   "metadata": {},
   "source": [
    "### 3️⃣ Adding & Removing Elements\n",
    "\n",
    "#### Adding Elements\n",
    "- .append() → Adds an element to the end.\n",
    "- .insert() → Inserts at a specific position.\n",
    "\n",
    "Example:"
   ]
  },
  {
   "cell_type": "code",
   "execution_count": null,
   "metadata": {},
   "outputs": [],
   "source": [
    "numbers = [1, 2, 3]\n",
    "numbers.append(4)   # Adds 4 at the end\n",
    "print(numbers)      # Output: [1, 2, 3, 4]\n",
    "\n",
    "numbers.insert(1, 10)  # Inserts 10 at index 1\n",
    "print(numbers)      # Output: [1, 10, 2, 3, 4]"
   ]
  },
  {
   "cell_type": "markdown",
   "metadata": {},
   "source": [
    "#### Removing Elements\n",
    "- .remove(value) → Removes first occurrence of value.\n",
    "- .pop(index) → Removes element at index (default is last).\n",
    "\n",
    "Example:"
   ]
  },
  {
   "cell_type": "code",
   "execution_count": null,
   "metadata": {},
   "outputs": [],
   "source": [
    "numbers.remove(10)   # Removes the value 10\n",
    "print(numbers)       # Output: [1, 2, 3, 4]\n",
    "\n",
    "numbers.pop(2)       # Removes element at index 2\n",
    "print(numbers)       # Output: [1, 2, 4]"
   ]
  },
  {
   "cell_type": "markdown",
   "metadata": {},
   "source": [
    "### Popcorn hack 1"
   ]
  },
  {
   "cell_type": "markdown",
   "metadata": {},
   "source": [
    "Write a Python program that:\n",
    "\n",
    "1) Creates a list of your 3 favorite movies.\n",
    "2) Adds a new movie to the list.\n",
    "3) Removes the second movie from the list.\n",
    "4) Prints the final list.\n",
    "\n"
   ]
  },
  {
   "cell_type": "code",
   "execution_count": null,
   "metadata": {},
   "outputs": [],
   "source": [
    "import ipywidgets as widgets\n",
    "from IPython.display import display, Code\n",
    "\n",
    "# Define the Python code as a string\n",
    "code_str = \"\"\"# Step 1: Create a list of 3 favorite movies\n",
    "movies = [\"Inception\", \"Interstellar\", \"The Dark Knight\"]\n",
    "\n",
    "# Step 2: Add a new movie to the list\n",
    "movies.append(\"Parasite\")\n",
    "\n",
    "# Step 3: Remove the second movie from the list\n",
    "movies.pop(1)  # Removes \"Interstellar\"\n",
    "\n",
    "# Step 4: Print the final list\n",
    "print(\"Final movie list:\", movies)\n",
    "\"\"\"\n",
    "\n",
    "# Create a button widget\n",
    "button = widgets.Button(description=\"Show Answer\", button_style=\"info\")\n",
    "\n",
    "# Define a function to display the code when the button is clicked\n",
    "def show_code(b):\n",
    "    display(Code(code_str, language=\"python\"))\n",
    "\n",
    "# Attach the function to the button click event\n",
    "button.on_click(show_code)\n",
    "\n",
    "# Display the button\n",
    "display(button)"
   ]
  },
  {
   "cell_type": "markdown",
   "metadata": {},
   "source": [
    "## Filtering Lists"
   ]
  },
  {
   "cell_type": "markdown",
   "metadata": {},
   "source": [
    "📌 Concepts:\n",
    "- List Comprehension\n",
    "- filter() Function"
   ]
  },
  {
   "cell_type": "markdown",
   "metadata": {},
   "source": [
    "### 1️⃣ List Comprehension\n",
    "\n",
    "List comprehension is a concise way to create lists by filtering or modifying elements in a single line of code.\n",
    "\n",
    "Basic syntax:"
   ]
  },
  {
   "cell_type": "code",
   "execution_count": null,
   "metadata": {},
   "outputs": [],
   "source": [
    "from ast import Expression\n",
    "from asyncio import Condition\n",
    "from typing import Iterable\n",
    "\n",
    "\n",
    "new_list = [Expression for item in Iterable if Condition]"
   ]
  },
  {
   "cell_type": "markdown",
   "metadata": {},
   "source": [
    "Components:\n",
    "1) Expression → The operation or transformation applied to each item.\n",
    "2) Item → Each element in the iterable (e.g., list, range, string).\n",
    "3) Iterable → The source of data (e.g., list, tuple, range).\n",
    "4) Condition (Optional) → A filter that selects only specific elements.\n",
    "\n",
    "\n",
    "Basic Example: Filtering Even Numbers"
   ]
  },
  {
   "cell_type": "code",
   "execution_count": null,
   "metadata": {},
   "outputs": [],
   "source": [
    "numbers = [1, 2, 3, 4, 5, 6, 7, 8, 9, 10]\n",
    "\n",
    "# Using list comprehension to get only even numbers\n",
    "even_numbers = [num for num in numbers if num % 2 == 0]\n",
    "\n",
    "print(even_numbers)  # Output: [2, 4, 6, 8, 10]"
   ]
  },
  {
   "cell_type": "markdown",
   "metadata": {},
   "source": [
    "🔹 Explanation:\n",
    "- num for num in numbers → Iterates through each number.\n",
    "- if num % 2 == 0 → Filters out even numbers only."
   ]
  },
  {
   "cell_type": "markdown",
   "metadata": {},
   "source": [
    "Example: Filtering Words by Length"
   ]
  },
  {
   "cell_type": "code",
   "execution_count": null,
   "metadata": {},
   "outputs": [],
   "source": [
    "words = [\"apple\", \"banana\", \"cherry\", \"date\", \"fig\", \"grape\"]\n",
    "short_words = [word for word in words if len(word) <= 5]\n",
    "\n",
    "print(short_words)  # Output: ['apple', 'date', 'fig']"
   ]
  },
  {
   "cell_type": "markdown",
   "metadata": {},
   "source": [
    "### 2️⃣ filter() Function\n",
    "\n",
    "The filter() function is used to filter elements in an iterable based on a function that returns True or False.\n",
    "\n",
    "Basic Syntax:"
   ]
  },
  {
   "cell_type": "code",
   "execution_count": null,
   "metadata": {},
   "outputs": [],
   "source": [
    "filtered_list = filter(function, Iterable)"
   ]
  },
  {
   "cell_type": "markdown",
   "metadata": {},
   "source": [
    "Components:\n",
    "1) function → A function that returns True or False for each element.\n",
    "2) iterable → The collection (e.g., list, tuple) to be filtered.\n",
    "3) filter() returns an iterator, so it needs to be converted to a list using list(filter(...)).\n",
    "\n",
    "\n",
    "Example: Filtering Odd Numbers"
   ]
  },
  {
   "cell_type": "code",
   "execution_count": null,
   "metadata": {},
   "outputs": [],
   "source": [
    "numbers = [1, 2, 3, 4, 5, 6, 7, 8, 9, 10]\n",
    "\n",
    "# Function to check if a number is odd\n",
    "def is_odd(num):\n",
    "    return num % 2 != 0\n",
    "\n",
    "odd_numbers = list(filter(is_odd, numbers))\n",
    "\n",
    "print(odd_numbers)  # Output: [1, 3, 5, 7, 9]"
   ]
  },
  {
   "cell_type": "markdown",
   "metadata": {},
   "source": [
    "🔹 Explanation:\n",
    "- is_odd(num) returns True for odd numbers.\n",
    "- filter(is_odd, numbers) keeps only True values.\n",
    "\n",
    "Example: Filtering Names That Start with \"A\""
   ]
  },
  {
   "cell_type": "code",
   "execution_count": null,
   "metadata": {},
   "outputs": [],
   "source": [
    "names = [\"Alice\", \"Bob\", \"Amanda\", \"Charlie\", \"Andrew\"]\n",
    "\n",
    "a_names = list(filter(lambda name: name.startswith(\"A\"), names))\n",
    "\n",
    "print(a_names)  # Output: ['Alice', 'Amanda', 'Andrew']"
   ]
  },
  {
   "cell_type": "markdown",
   "metadata": {},
   "source": [
    "🔹 Explanation:\n",
    "- The lambda function checks if a name starts with \"A\".\n",
    "- filter() keeps only names that satisfy the condition."
   ]
  },
  {
   "cell_type": "markdown",
   "metadata": {},
   "source": [
    "### Popcorn Hack 2"
   ]
  },
  {
   "cell_type": "markdown",
   "metadata": {},
   "source": [
    "1️⃣ Create a list of numbers from 1 to 10.\n",
    "2️⃣ Filter out even numbers using list comprehension.\n",
    "3️⃣ Square the even numbers in the same step.\n",
    "4️⃣ Display the result in a dropdown after clicking a button."
   ]
  },
  {
   "cell_type": "code",
   "execution_count": null,
   "metadata": {},
   "outputs": [],
   "source": [
    "import ipywidgets as widgets\n",
    "from IPython.display import display\n",
    "\n",
    "# Function to show output when button is clicked\n",
    "def show_output(change):\n",
    "    numbers = [1, 2, 3, 4, 5, 6, 7, 8, 9, 10]\n",
    "    squared_evens = [num ** 2 for num in numbers if num % 2 == 0]\n",
    "    output_dropdown.options = squared_evens\n",
    "\n",
    "# Create button and dropdown\n",
    "button = widgets.Button(description=\"Show Squared Evens\")\n",
    "output_dropdown = widgets.Dropdown(description=\"Results\", options=[])\n",
    "\n",
    "# Attach button click event\n",
    "button.on_click(show_output)\n",
    "\n",
    "# Display widgets\n",
    "display(button, output_dropdown)\n"
   ]
  },
  {
   "cell_type": "markdown",
   "metadata": {},
   "source": [
    "# Algorithims "
   ]
  },
  {
   "cell_type": "markdown",
   "metadata": {},
   "source": [
    "### Searching Algorithims"
   ]
  },
  {
   "cell_type": "markdown",
   "metadata": {},
   "source": [
    "🔹 Concepts:\n",
    "- Linear Search: Checks each element one by one (O(n)).\n",
    "- Binary Search: Faster but requires a sorted list (O(log n)).\n",
    "\n",
    "Example:"
   ]
  },
  {
   "cell_type": "code",
   "execution_count": null,
   "metadata": {},
   "outputs": [],
   "source": [
    "def find_first_rotten(apples):\n",
    "    low, high = 0, len(apples) - 1\n",
    "    \n",
    "    while low < high:  \n",
    "        mid = (low + high) // 2\n",
    "        high = mid if apples[mid] == \"rotten\" else high\n",
    "        low = mid + 1 if apples[mid] == \"fresh\" else low\n",
    "\n",
    "    return low if apples[low] == \"rotten\" else -1  \n",
    "\n",
    "# Example batch (sorted: fresh → rotten)\n",
    "apples = [\"fresh\", \"fresh\", \"fresh\", \"rotten\", \"rotten\", \"rotten\"]\n",
    "print(find_first_rotten(apples))  # Output: 3"
   ]
  },
  {
   "cell_type": "markdown",
   "metadata": {},
   "source": [
    "- Binary Search (O(log n)): Quickly narrows down where \"rotten\" apples start.\n",
    "- Linear Check (O(1)): Ensures we found the first \"rotten\" apple.\n",
    "- Efficient Hybrid: Combines speed of binary search with accuracy of linear search. 🚀"
   ]
  },
  {
   "cell_type": "markdown",
   "metadata": {},
   "source": [
    "### Popcorn Hack 3"
   ]
  },
  {
   "cell_type": "code",
   "execution_count": 4,
   "metadata": {},
   "outputs": [
    {
     "name": "stdout",
     "output_type": "stream",
     "text": [
      "Stop the microwave!\n",
      "Enjoy your perfect popcorn! 🍿\n"
     ]
    }
   ],
   "source": [
    "def popcorn_hack():\n",
    "    start_time = 0\n",
    "    max_time = 120  # 2 minutes max\n",
    "    pop_rate = 1  # Simulating an initial pop rate\n",
    "    \n",
    "    # Simulate time passing\n",
    "    while start_time < max_time:\n",
    "        # Check if the pop rate is slowing down (simulated condition)\n",
    "        if pop_rate >= 3:  # Slows to 3+ seconds per pop\n",
    "            break\n",
    "        start_time += 1  # Simulating 1 second per loop\n",
    "\n",
    "    print(\"Stop the microwave!\")  # Prevent burning\n",
    "    if check_unpopped_kernels():  \n",
    "        print(\"Microwave for 10 more seconds!\")\n",
    "    else:\n",
    "        print(\"Enjoy your perfect popcorn! 🍿\")\n",
    "\n",
    "# Simulated helper function\n",
    "def check_unpopped_kernels():\n",
    "    return False  # Example: No need for extra heating\n",
    "\n",
    "popcorn_hack()\n"
   ]
  }
 ],
 "metadata": {
  "kernelspec": {
   "display_name": "venv",
   "language": "python",
   "name": "python3"
  },
  "language_info": {
   "codemirror_mode": {
    "name": "ipython",
    "version": 3
   },
   "file_extension": ".py",
   "mimetype": "text/x-python",
   "name": "python",
   "nbconvert_exporter": "python",
   "pygments_lexer": "ipython3",
   "version": "3.13.2"
  }
 },
 "nbformat": 4,
 "nbformat_minor": 2
}
