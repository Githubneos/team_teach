{
 "cells": [
  {
   "cell_type": "markdown",
   "metadata": {},
   "source": [
    "---\n",
    "title: Lists and Filtering Algorithims (period 2)\n",
    "layout: post\n",
    "type: issues \n",
    "comments: true\n",
    "permalink: Lists_Algorithims\n",
    "---"
   ]
  },
  {
   "cell_type": "markdown",
   "metadata": {},
   "source": [
    "# What is a list?"
   ]
  },
  {
   "cell_type": "markdown",
   "metadata": {},
   "source": [
    "College Board Definition: A list is an ordered sequence of elements. The use of lists allows multiple related items to be represented using a single variable."
   ]
  },
  {
   "cell_type": "markdown",
   "metadata": {},
   "source": [
    "# What does this mean ? \n",
    "A list is something that holds multiple things in one variable, kinda like a basket holding multiple things. "
   ]
  },
  {
   "cell_type": "markdown",
   "metadata": {},
   "source": [
    "# Whats wrong with this method of data collection?"
   ]
  },
  {
   "cell_type": "code",
   "execution_count": null,
   "metadata": {},
   "outputs": [],
   "source": [
    "score1 = 87\n",
    "score2 = 92\n",
    "score3 = 78\n",
    "score4 = 85\n",
    "score5 = 90"
   ]
  },
  {
   "cell_type": "code",
   "execution_count": null,
   "metadata": {},
   "outputs": [],
   "source": [
    "# Instead you can use a list\n",
    "scores = [87, 92, 78, 85, 90]"
   ]
  },
  {
   "cell_type": "markdown",
   "metadata": {},
   "source": [
    "# Popcorn Hack 1\n",
    "\n",
    "What are some possible benefits of using lists? What are some real world examples of lists being used in code ?"
   ]
  },
  {
   "cell_type": "markdown",
   "metadata": {},
   "source": [
    "# Answer\n",
    "\n",
    "<details>\n",
    "<summary>🔍 Click to show answer</summary>\n",
    "\n",
    "Answer:\n",
    "- ✅ Store lots of data in one place\n",
    "\n",
    "- ✅ Access each item individually\n",
    "\n",
    "- ✅ Filter, sort, and organize that data\n",
    "\n",
    "</details>\n"
   ]
  },
  {
   "cell_type": "markdown",
   "metadata": {},
   "source": [
    "# Real world examples\n",
    "\n",
    "Without lists, you wouldn't have:\n",
    "\n",
    "1. Online Shopping Cart\n",
    "Every time you add an item, it goes into a list.\n",
    "Without a list, you'd only be able to add one item at a time — no checkout with multiple items.\n",
    "\n",
    "2. Inbox in Email Apps\n",
    "Your inbox is a list of emails.\n",
    "No list? You’d only ever see one email at a time.\n",
    "\n",
    "3. Music Playlist (Spotify, Apple Music)\n",
    "Every playlist is a list of songs.\n",
    "No list = only 1 song per playlist "
   ]
  },
  {
   "cell_type": "markdown",
   "metadata": {},
   "source": [
    "  <div id=\"123456\">\n",
    "    <img src=\"{{site.baseurl}}/images/graphic3.png\" style=\"height: 190px;\">\n",
    "  </div>\n",
    "<br><br>"
   ]
  },
  {
   "cell_type": "markdown",
   "metadata": {},
   "source": [
    "# Working with Lists"
   ]
  },
  {
   "cell_type": "markdown",
   "metadata": {},
   "source": [
    "1. Creating a List\n",
    "You create a list by placing items inside square brackets [] and separating them with commas. You can store any type of data in a list: strings, numbers, or even other lists."
   ]
  },
  {
   "cell_type": "code",
   "execution_count": 1,
   "metadata": {},
   "outputs": [
    {
     "name": "stdout",
     "output_type": "stream",
     "text": [
      "['apple', '123', ['banana', 'orange', 42]]\n"
     ]
    }
   ],
   "source": [
    "List1 = [\"banana\", \"orange\", 42]\n",
    "List2 = [\"apple\", \"123\", List1]\n",
    "print(List2)  \n"
   ]
  },
  {
   "cell_type": "markdown",
   "metadata": {},
   "source": [
    "2. Accessing List Elements\n",
    "    - You can access any element in the list by using its index. The index starts at 0 for the first element."
   ]
  },
  {
   "cell_type": "code",
   "execution_count": 3,
   "metadata": {},
   "outputs": [
    {
     "name": "stdout",
     "output_type": "stream",
     "text": [
      "apple\n",
      "banana\n"
     ]
    }
   ],
   "source": [
    "fruits = [\"apple\", \"banana\", \"cherry\"]\n",
    "print(fruits[0])  # Output: apple\n",
    "print(fruits[1])  # Output: banana"
   ]
  },
  {
   "cell_type": "markdown",
   "metadata": {},
   "source": [
    "3. Modifying List Elements\n",
    "Lists are mutable, meaning you can modify an element by referring to its index and assigning it a new value."
   ]
  },
  {
   "cell_type": "code",
   "execution_count": 4,
   "metadata": {},
   "outputs": [
    {
     "name": "stdout",
     "output_type": "stream",
     "text": [
      "['apple', 'blueberry', 'cherry']\n"
     ]
    }
   ],
   "source": [
    "fruits[1] = \"blueberry\"  # Changes 'banana' to 'blueberry'\n",
    "print(fruits)  # Output: ['apple', 'blueberry', 'cherry']"
   ]
  },
  {
   "cell_type": "markdown",
   "metadata": {},
   "source": [
    "4. Adding Elements to a List\n",
    "- You can add elements to a list in two main ways:\n",
    "    - append(): Adds an item to the end of the list.\n",
    "    - insert(index, item): Adds an item at a specific position in the list.\n",
    "\n"
   ]
  },
  {
   "cell_type": "code",
   "execution_count": 5,
   "metadata": {},
   "outputs": [
    {
     "name": "stdout",
     "output_type": "stream",
     "text": [
      "['apple', 'blueberry', 'cherry', 'mango']\n",
      "['apple', 'orange', 'blueberry', 'cherry', 'mango']\n"
     ]
    }
   ],
   "source": [
    "# Append a new fruit to the end\n",
    "fruits.append(\"mango\")\n",
    "print(fruits)  # Output: ['apple', 'blueberry', 'cherry', 'mango']\n",
    "\n",
    "# Insert a fruit at the second position\n",
    "fruits.insert(1, \"orange\")\n",
    "print(fruits)  # Output: ['apple', 'orange', 'blueberry', 'cherry', 'mango']\n"
   ]
  },
  {
   "cell_type": "markdown",
   "metadata": {},
   "source": [
    "5. Removing Elements from a list"
   ]
  },
  {
   "cell_type": "code",
   "execution_count": 3,
   "metadata": {},
   "outputs": [
    {
     "name": "stdout",
     "output_type": "stream",
     "text": [
      "['cat', 'fish']\n"
     ]
    }
   ],
   "source": [
    "animals = [\"cat\", \"dog\", \"fish\"]\n",
    "animals.pop(1)  # removes \"dog\"\n",
    "print(animals)\n"
   ]
  },
  {
   "cell_type": "markdown",
   "metadata": {},
   "source": [
    "6. Slicing up a list"
   ]
  },
  {
   "cell_type": "code",
   "execution_count": 4,
   "metadata": {},
   "outputs": [
    {
     "name": "stdout",
     "output_type": "stream",
     "text": [
      "[10, 20, 30, 40, 50]\n"
     ]
    }
   ],
   "source": [
    "numbers = [10, 20, 30, 40, 50, 60, 70, 80, 90, 100]\n",
    "first_five = numbers[0:5]\n",
    "print(first_five)\n"
   ]
  },
  {
   "cell_type": "markdown",
   "metadata": {},
   "source": [
    "# What will we need to use lists for on the exam?\n",
    "\n",
    "College board requires the use of lists for the [Create Performance Task](https://apcentral.collegeboard.org/media/pdf/ap-csp-student-task-directions.pdf)\n",
    "\n",
    "Lists are also part of Big Idea 3 of the AP CSP curriculum, section 3.10, and will be asked on the MCQ. \n",
    "\n",
    "  <div id=\"123456\">\n",
    "    <img src=\"{{site.baseurl}}/images/lists.png\" style=\"height: 190px;\">\n",
    "  </div>\n",
    "<br><br>"
   ]
  },
  {
   "cell_type": "markdown",
   "metadata": {},
   "source": [
    "# Example College Board question\n",
    "\n",
    "  <div id=\"123456\">\n",
    "    <img src=\"{{site.baseurl}}/images/collegeboard.png\" style=\"height: 190px;\">\n",
    "  </div>\n",
    "<br><br>"
   ]
  },
  {
   "cell_type": "markdown",
   "metadata": {},
   "source": [
    "# Popcorn Hack 2\n",
    "\n",
    "Create a list, modify it using list procedures, and print results at each step."
   ]
  },
  {
   "cell_type": "markdown",
   "metadata": {},
   "source": [
    "\n",
    "<html lang=\"en\">\n",
    "<head>\n",
    "  <meta charset=\"UTF-8\">\n",
    "  <meta name=\"viewport\" content=\"width=device-width, initial-scale=1\">\n",
    "  <title>Replit-like Python Interpreter</title>\n",
    "  <!-- CodeMirror CSS -->\n",
    "  <link rel=\"stylesheet\" href=\"https://cdnjs.cloudflare.com/ajax/libs/codemirror/5.65.13/codemirror.min.css\">\n",
    "  <link rel=\"stylesheet\" href=\"https://cdnjs.cloudflare.com/ajax/libs/codemirror/5.65.13/theme/dracula.min.css\">\n",
    " <style>\n",
    "  body {\n",
    "    margin: 0;\n",
    "    padding: 0;\n",
    "    background-color: #282a36;\n",
    "    color: #f8f8f2;\n",
    "    font-family: sans-serif;\n",
    "    overflow: auto;\n",
    "  }\n",
    "  .container {\n",
    "    display: flex;\n",
    "    flex-wrap: wrap;\n",
    "    width: 100%;\n",
    "    padding: 10px;\n",
    "    box-sizing: border-box;\n",
    "  }\n",
    "  .editor-section,\n",
    "  .output-section {\n",
    "    flex: 1;\n",
    "    min-width: 300px;\n",
    "    display: flex;\n",
    "    flex-direction: column;\n",
    "    padding: 10px;\n",
    "    box-sizing: border-box;\n",
    "    height: 250px;\n",
    "    max-height: 250px;\n",
    "  }\n",
    "  .editor-section {\n",
    "    border-right: 1px solid #44475a;\n",
    "  }\n",
    "  .header {\n",
    "    display: flex;\n",
    "    justify-content: space-between;\n",
    "    align-items: center;\n",
    "    margin-bottom: 10px;\n",
    "  }\n",
    "  #run-btn {\n",
    "    background-color: #50fa7b;\n",
    "    border: none;\n",
    "    border-radius: 3px;\n",
    "    padding: 5px 10px;\n",
    "    color: #282a36;\n",
    "    font-weight: bold;\n",
    "    cursor: pointer;\n",
    "  }\n",
    "  .CodeMirror {\n",
    "    flex: 1;\n",
    "    border: 1px solid #44475a;\n",
    "    overflow: auto;\n",
    "    height: 100%;\n",
    "  }\n",
    "  #output {\n",
    "    flex: 1;\n",
    "    background-color: #1e1f29;\n",
    "    border: 1px solid #44475a;\n",
    "    padding: 10px;\n",
    "    overflow-y: auto;\n",
    "    white-space: pre-wrap;\n",
    "    font-family: monospace;\n",
    "  }\n",
    "</style>\n",
    "</head>\n",
    "<body>\n",
    "  <div class=\"container\">\n",
    "    <div class=\"editor-section\">\n",
    "      <div class=\"header\">\n",
    "        <h2 style=\"margin: 0; font-size: 18px;\">Python Editor</h2>\n",
    "        <!-- Inline onclick for immediate response -->\n",
    "        <button id=\"run-btn\" onclick=\"runPython()\">Run</button>\n",
    "      </div>\n",
    "      <textarea id=\"code\">\n",
    "      </textarea>\n",
    "    </div>\n",
    "    <div class=\"output-section\">\n",
    "      <div class=\"header\">\n",
    "        <h2 style=\"margin: 0; font-size: 18px;\">Output</h2>\n",
    "      </div>\n",
    "      <div id=\"output\"></div>\n",
    "    </div>\n",
    "  </div>\n",
    "  \n",
    "  <!-- CodeMirror JS -->\n",
    "  <script src=\"https://cdnjs.cloudflare.com/ajax/libs/codemirror/5.65.13/codemirror.min.js\"></script>\n",
    "  <script src=\"https://cdnjs.cloudflare.com/ajax/libs/codemirror/5.65.13/mode/python/python.min.js\"></script>\n",
    "  <!-- Skulpt for Python execution using updated CDN links -->\n",
    "  <script src=\"https://cdn.jsdelivr.net/npm/skulpt@1.2.0/dist/skulpt.min.js\"></script>\n",
    "  <script src=\"https://cdn.jsdelivr.net/npm/skulpt@1.2.0/dist/skulpt-stdlib.js\"></script>\n",
    "  \n",
    "  <script>\n",
    "    var editor;\n",
    "    window.onload = function() {\n",
    "      // Initialize CodeMirror on the textarea after the page loads\n",
    "      editor = CodeMirror.fromTextArea(document.getElementById(\"code\"), {\n",
    "        mode: \"python\",\n",
    "        theme: \"dracula\",\n",
    "        lineNumbers: true,\n",
    "        indentUnit: 4,\n",
    "        tabSize: 4,\n",
    "        viewportMargin: Infinity,\n",
    "      });\n",
    "    };\n",
    "\n",
    "    // Skulpt file loader\n",
    "    function builtinRead(x) {\n",
    "      if (Sk.builtinFiles === undefined || Sk.builtinFiles[\"files\"][x] === undefined) {\n",
    "        throw \"File not found: '\" + x + \"'\";\n",
    "      }\n",
    "      return Sk.builtinFiles[\"files\"][x];\n",
    "    }\n",
    "\n",
    "    // Function to run the Python code\n",
    "    function runPython() {\n",
    "      console.log(\"Run button clicked\");\n",
    "      var outputElement = document.getElementById(\"output\");\n",
    "      outputElement.innerHTML = \"\";\n",
    "      Sk.configure({\n",
    "        output: function(text) {\n",
    "          outputElement.innerHTML += text;\n",
    "        },\n",
    "        read: builtinRead,\n",
    "      });\n",
    "      var prog = editor.getValue();\n",
    "      Sk.misceval.asyncToPromise(function() {\n",
    "        return Sk.importMainWithBody(\"<stdin>\", false, prog, true);\n",
    "      }).catch(function(err) {\n",
    "        outputElement.innerHTML = err.toString();\n",
    "      });\n",
    "    }\n",
    "  </script>\n",
    "</body>\n",
    "</html>\n",
    "\n"
   ]
  },
  {
   "cell_type": "markdown",
   "metadata": {},
   "source": [
    "## Filtering Algorithim"
   ]
  },
  {
   "cell_type": "markdown",
   "metadata": {},
   "source": [
    "College Board states that an algorithim is \"a finite set of instructions that accomplish a specific task.\" They also say that \"Filtering algorithims are important tools for finding information and recognizing patterns in data.\"\n",
    "\n",
    "So what are they? \n",
    "\n",
    "In basic terms:\n",
    "\n",
    "- 🔍 Filtering algorithm:\n",
    "    - Loops through the list\n",
    "    - Checks a condition\n",
    "    - Stores matching items in a new list."
   ]
  },
  {
   "cell_type": "markdown",
   "metadata": {},
   "source": [
    "  <div id=\"123456\">\n",
    "    <img src=\"{{site.baseurl}}/images/filtering_algorithim.png\" style=\"height: 190px;\">\n",
    "  </div>\n",
    "<br><br>"
   ]
  },
  {
   "cell_type": "markdown",
   "metadata": {},
   "source": []
  },
  {
   "cell_type": "markdown",
   "metadata": {},
   "source": [
    "# Sample College Board Questions"
   ]
  },
  {
   "cell_type": "markdown",
   "metadata": {},
   "source": [
    "# Additional Resrouces \n",
    "\n",
    "[Lists and Iteration](https://www.youtube.com/watch?v=SMmuT7Eccrg)"
   ]
  }
 ],
 "metadata": {
  "kernelspec": {
   "display_name": "venv",
   "language": "python",
   "name": "python3"
  },
  "language_info": {
   "codemirror_mode": {
    "name": "ipython",
    "version": 3
   },
   "file_extension": ".py",
   "mimetype": "text/x-python",
   "name": "python",
   "nbconvert_exporter": "python",
   "pygments_lexer": "ipython3",
   "version": "3.12.3"
  }
 },
 "nbformat": 4,
 "nbformat_minor": 2
}
