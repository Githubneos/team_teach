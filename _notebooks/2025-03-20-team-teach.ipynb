{
 "cells": [
  {
   "cell_type": "markdown",
   "metadata": {},
   "source": [
    "---\n",
    "layout: post\n",
    "type: issues \n",
    "comments: true\n",
    "permalink: Lists_Algorithims\n",
    "---"
   ]
  },
  {
   "cell_type": "markdown",
   "metadata": {},
   "source": [
    "# What is a list?"
   ]
  },
  {
   "cell_type": "markdown",
   "metadata": {},
   "source": [
    "College Board Definition: A list is an ordered sequence of elements. The use of lists allows multiple related items to be represented using a single variable."
   ]
  },
  {
   "cell_type": "markdown",
   "metadata": {},
   "source": [
    "# What does this mean ? \n",
    "A list is something that holds multiple things in one variable, kinda like a basket holding multiple things. "
   ]
  },
  {
   "cell_type": "markdown",
   "metadata": {},
   "source": [
    "# Popcorn Hack 1\n",
    "\n",
    "What are the benefits of lists?"
   ]
  },
  {
   "cell_type": "markdown",
   "metadata": {},
   "source": [
    "# Answer\n",
    "\n",
    "<details>\n",
    "<summary>🔍 Click to show answer</summary>\n",
    "\n",
    "**Answer:**  \n",
    "✅ Store lots of data in one place\n",
    "\n",
    "✅ Access each item individually\n",
    "\n",
    "✅ Filter, sort, and organize that data\n",
    "\n",
    "</details>\n"
   ]
  },
  {
   "cell_type": "markdown",
   "metadata": {},
   "source": [
    "# Real world examples\n",
    "\n",
    "Without lists, you wouldn't have:\n",
    "\n",
    "1. Online Shopping Cart\n",
    "Every time you add an item, it goes into a list.\n",
    "Without a list, you'd only be able to add one item at a time — no checkout with multiple items.\n",
    "\n",
    "2. Inbox in Email Apps\n",
    "Your inbox is a list of emails.\n",
    "No list? You’d only ever see one email at a time.\n",
    "\n",
    "3. Music Playlist (Spotify, Apple Music)\n",
    "Every playlist is a list of songs.\n",
    "No list = only 1 song per playlist "
   ]
  },
  {
   "cell_type": "markdown",
   "metadata": {},
   "source": [
    "  <div id=\"123456\">\n",
    "    <img src=\"{{site.baseurl}}/images/graphic3.png\" style=\"height: 190px;\">\n",
    "  </div>\n",
    "<br><br>"
   ]
  },
  {
   "cell_type": "markdown",
   "metadata": {},
   "source": [
    "# Working with Lists"
   ]
  },
  {
   "cell_type": "markdown",
   "metadata": {},
   "source": [
    "1. Creating a List\n",
    "You create a list by placing items inside square brackets [] and separating them with commas. You can store any type of data in a list: strings, numbers, or even other lists."
   ]
  },
  {
   "cell_type": "code",
   "execution_count": 1,
   "metadata": {},
   "outputs": [
    {
     "name": "stdout",
     "output_type": "stream",
     "text": [
      "['apple', '123', ['banana', 'orange', 42]]\n"
     ]
    }
   ],
   "source": [
    "List1 = [\"banana\", \"orange\", 42]\n",
    "List2 = [\"apple\", \"123\", List1]\n",
    "print(List2)  \n"
   ]
  },
  {
   "cell_type": "markdown",
   "metadata": {},
   "source": [
    "2. Accessing List Elements\n",
    "    - You can access any element in the list by using its index. The index starts at 0 for the first element."
   ]
  },
  {
   "cell_type": "code",
   "execution_count": 3,
   "metadata": {},
   "outputs": [
    {
     "name": "stdout",
     "output_type": "stream",
     "text": [
      "apple\n",
      "banana\n"
     ]
    }
   ],
   "source": [
    "fruits = [\"apple\", \"banana\", \"cherry\"]\n",
    "print(fruits[0])  # Output: apple\n",
    "print(fruits[1])  # Output: banana"
   ]
  },
  {
   "cell_type": "markdown",
   "metadata": {},
   "source": [
    "3. Modifying List Elements\n",
    "Lists are mutable, meaning you can modify an element by referring to its index and assigning it a new value."
   ]
  },
  {
   "cell_type": "code",
   "execution_count": 4,
   "metadata": {},
   "outputs": [
    {
     "name": "stdout",
     "output_type": "stream",
     "text": [
      "['apple', 'blueberry', 'cherry']\n"
     ]
    }
   ],
   "source": [
    "fruits[1] = \"blueberry\"  # Changes 'banana' to 'blueberry'\n",
    "print(fruits)  # Output: ['apple', 'blueberry', 'cherry']"
   ]
  },
  {
   "cell_type": "markdown",
   "metadata": {},
   "source": [
    "4. Adding Elements to a List\n",
    "- You can add elements to a list in two main ways:\n",
    "    - append(): Adds an item to the end of the list.\n",
    "    - insert(index, item): Adds an item at a specific position in the list.\n",
    "\n"
   ]
  },
  {
   "cell_type": "code",
   "execution_count": 5,
   "metadata": {},
   "outputs": [
    {
     "name": "stdout",
     "output_type": "stream",
     "text": [
      "['apple', 'blueberry', 'cherry', 'mango']\n",
      "['apple', 'orange', 'blueberry', 'cherry', 'mango']\n"
     ]
    }
   ],
   "source": [
    "# Append a new fruit to the end\n",
    "fruits.append(\"mango\")\n",
    "print(fruits)  # Output: ['apple', 'blueberry', 'cherry', 'mango']\n",
    "\n",
    "# Insert a fruit at the second position\n",
    "fruits.insert(1, \"orange\")\n",
    "print(fruits)  # Output: ['apple', 'orange', 'blueberry', 'cherry', 'mango']\n"
   ]
  },
  {
   "cell_type": "markdown",
   "metadata": {},
   "source": [
    "# Popcorn Hack 2\n",
    "\n",
    "Use list slicing to solve the following tasks:\n",
    "    - Extract the first 5 elements of the list.\n",
    "    - Extract every other element starting from the second element (index 1).\n",
    "    - Reverse the list using list slicing.\n",
    "    - Create a new list with the last 4 elements of the original list."
   ]
  },
  {
   "cell_type": "markdown",
   "metadata": {},
   "source": [
    "\n",
    "<html lang=\"en\">\n",
    "<head>\n",
    "  <meta charset=\"UTF-8\">\n",
    "  <meta name=\"viewport\" content=\"width=device-width, initial-scale=1\">\n",
    "  <title>Replit-like Python Interpreter</title>\n",
    "  <!-- CodeMirror CSS -->\n",
    "  <link rel=\"stylesheet\" href=\"https://cdnjs.cloudflare.com/ajax/libs/codemirror/5.65.13/codemirror.min.css\">\n",
    "  <link rel=\"stylesheet\" href=\"https://cdnjs.cloudflare.com/ajax/libs/codemirror/5.65.13/theme/dracula.min.css\">\n",
    "  <style>\n",
    "    body {\n",
    "      margin: 0;\n",
    "      padding: 0;\n",
    "      background-color: #282a36;\n",
    "      color: #f8f8f2;\n",
    "      font-family: sans-serif;\n",
    "      overflow: auto; /* Allow full page scrolling */\n",
    "    }\n",
    "    .container {\n",
    "      display: flex;\n",
    "      flex-wrap: wrap;\n",
    "      min-height: 100vh;\n",
    "      width: 100%;\n",
    "      padding: 10px;\n",
    "      box-sizing: border-box;\n",
    "    }\n",
    "    .editor-section, .output-section {\n",
    "      flex: 1;\n",
    "      min-width: 300px;\n",
    "      display: flex;\n",
    "      flex-direction: column;\n",
    "      padding: 10px;\n",
    "      box-sizing: border-box;\n",
    "    }\n",
    "    .editor-section {\n",
    "      border-right: 1px solid #44475a;\n",
    "    }\n",
    "    .header {\n",
    "      display: flex;\n",
    "      justify-content: space-between;\n",
    "      align-items: center;\n",
    "      margin-bottom: 10px;\n",
    "    }\n",
    "    #run-btn {\n",
    "      background-color: #50fa7b;\n",
    "      border: none;\n",
    "      border-radius: 3px;\n",
    "      padding: 5px 10px;\n",
    "      color: #282a36;\n",
    "      font-weight: bold;\n",
    "      cursor: pointer;\n",
    "    }\n",
    "    /* CodeMirror editor styling */\n",
    "    .CodeMirror {\n",
    "      flex: 1;\n",
    "      border: 1px solid #44475a;\n",
    "      overflow: auto;\n",
    "      height: auto;\n",
    "    }\n",
    "    /* Output container styling */\n",
    "    #output {\n",
    "      flex: 1;\n",
    "      background-color: #1e1f29;\n",
    "      border: 1px solid #44475a;\n",
    "      padding: 10px;\n",
    "      overflow-y: auto;\n",
    "      white-space: pre-wrap;\n",
    "      font-family: monospace;\n",
    "    }\n",
    "  </style>\n",
    "</head>\n",
    "<body>\n",
    "  <div class=\"container\">\n",
    "    <div class=\"editor-section\">\n",
    "      <div class=\"header\">\n",
    "        <h2 style=\"margin: 0; font-size: 18px;\">Python Editor</h2>\n",
    "        <!-- Inline onclick for immediate response -->\n",
    "        <button id=\"run-btn\" onclick=\"runPython()\">Run</button>\n",
    "      </div>\n",
    "      <textarea id=\"code\">\n",
    "      </textarea>\n",
    "    </div>\n",
    "    <div class=\"output-section\">\n",
    "      <div class=\"header\">\n",
    "        <h2 style=\"margin: 0; font-size: 18px;\">Output</h2>\n",
    "      </div>\n",
    "      <div id=\"output\"></div>\n",
    "    </div>\n",
    "  </div>\n",
    "  \n",
    "  <!-- CodeMirror JS -->\n",
    "  <script src=\"https://cdnjs.cloudflare.com/ajax/libs/codemirror/5.65.13/codemirror.min.js\"></script>\n",
    "  <script src=\"https://cdnjs.cloudflare.com/ajax/libs/codemirror/5.65.13/mode/python/python.min.js\"></script>\n",
    "  <!-- Skulpt for Python execution using updated CDN links -->\n",
    "  <script src=\"https://cdn.jsdelivr.net/npm/skulpt@1.2.0/dist/skulpt.min.js\"></script>\n",
    "  <script src=\"https://cdn.jsdelivr.net/npm/skulpt@1.2.0/dist/skulpt-stdlib.js\"></script>\n",
    "  \n",
    "  <script>\n",
    "    var editor;\n",
    "    window.onload = function() {\n",
    "      // Initialize CodeMirror on the textarea after the page loads\n",
    "      editor = CodeMirror.fromTextArea(document.getElementById(\"code\"), {\n",
    "        mode: \"python\",\n",
    "        theme: \"dracula\",\n",
    "        lineNumbers: true,\n",
    "        indentUnit: 4,\n",
    "        tabSize: 4,\n",
    "        viewportMargin: Infinity,\n",
    "      });\n",
    "    };\n",
    "\n",
    "    // Skulpt file loader\n",
    "    function builtinRead(x) {\n",
    "      if (Sk.builtinFiles === undefined || Sk.builtinFiles[\"files\"][x] === undefined) {\n",
    "        throw \"File not found: '\" + x + \"'\";\n",
    "      }\n",
    "      return Sk.builtinFiles[\"files\"][x];\n",
    "    }\n",
    "\n",
    "    // Function to run the Python code\n",
    "    function runPython() {\n",
    "      console.log(\"Run button clicked\");\n",
    "      var outputElement = document.getElementById(\"output\");\n",
    "      outputElement.innerHTML = \"\";\n",
    "      Sk.configure({\n",
    "        output: function(text) {\n",
    "          outputElement.innerHTML += text;\n",
    "        },\n",
    "        read: builtinRead,\n",
    "      });\n",
    "      var prog = editor.getValue();\n",
    "      Sk.misceval.asyncToPromise(function() {\n",
    "        return Sk.importMainWithBody(\"<stdin>\", false, prog, true);\n",
    "      }).catch(function(err) {\n",
    "        outputElement.innerHTML = err.toString();\n",
    "      });\n",
    "    }\n",
    "  </script>\n",
    "</body>\n",
    "</html>\n",
    "\n"
   ]
  },
  {
   "cell_type": "markdown",
   "metadata": {},
   "source": [
    "## Filtering Algorithim"
   ]
  },
  {
   "cell_type": "markdown",
   "metadata": {},
   "source": [
    "What is it?\n",
    "\n",
    "In basic terms:\n",
    "\n",
    "Loop through a list → Check a condition → Save matches → Display result"
   ]
  },
  {
   "cell_type": "markdown",
   "metadata": {},
   "source": [
    "  <div id=\"123456\">\n",
    "    <img src=\"{{site.baseurl}}/images/filtering_algorithim.png\" style=\"height: 190px;\">\n",
    "  </div>\n",
    "<br><br>"
   ]
  },
  {
   "cell_type": "markdown",
   "metadata": {},
   "source": [
    "📌 Concepts:\n",
    "- List Comprehension\n",
    "- filter() Function"
   ]
  },
  {
   "cell_type": "markdown",
   "metadata": {},
   "source": [
    "### 1️⃣ List Comprehension\n",
    "\n",
    "List comprehension is a concise way to create lists by filtering or modifying elements in a single line of code.\n",
    "\n",
    "Basic syntax:"
   ]
  },
  {
   "cell_type": "code",
   "execution_count": null,
   "metadata": {},
   "outputs": [],
   "source": [
    "# Remove an item by name\n",
    "fruits.remove(\"cherry\")\n",
    "print(fruits)  # Output: ['apple', 'orange', 'blueberry', 'mango']\n",
    "\n",
    "# Pop an item from a specific index (removes and returns the item)\n",
    "fruits.pop(2)  # Removes 'blueberry' from index 2\n",
    "print(fruits)  # Output: ['apple', 'orange', 'mango']"
   ]
  },
  {
   "cell_type": "markdown",
   "metadata": {},
   "source": [
    "7. List Comprehension\n",
    "\n",
    "- List comprehension allows you to create a new list by applying an expression to each item in an existing list. It's a concise and powerful way to generate lists."
   ]
  },
  {
   "cell_type": "code",
   "execution_count": null,
   "metadata": {},
   "outputs": [],
   "source": [
    "# Square each number in the list\n",
    "numbers = [1, 2, 3, 4, 5]\n",
    "squares = [x**2 for x in numbers]\n",
    "print(squares)  # Output: [1, 4, 9, 16, 25]"
   ]
  },
  {
   "cell_type": "markdown",
   "metadata": {},
   "source": [
    "### Popcorn Hack #2: List Comprehension\n",
    "- Filtering a list only include even numbers\n"
   ]
  },
  {
   "cell_type": "markdown",
   "metadata": {},
   "source": [
    "#### Examples of All Concepts:"
   ]
  },
  {
   "cell_type": "code",
   "execution_count": null,
   "metadata": {},
   "outputs": [],
   "source": [
    "# 1. Create a list of fruits\n",
    "fruits = [\"apple\", \"banana\", \"cherry\"]\n",
    "print(\"Original List:\", fruits)\n",
    "\n",
    "# 2. Access the first fruit\n",
    "print(\"First fruit:\", fruits[0])\n",
    "\n",
    "# 3. Modify the second fruit\n",
    "fruits[1] = \"blueberry\"\n",
    "print(\"Modified List:\", fruits)\n",
    "\n",
    "# 4. Add a fruit at the end\n",
    "fruits.append(\"mango\")\n",
    "print(\"After Append:\", fruits)\n",
    "\n",
    "# 5. Insert a fruit at the second position\n",
    "fruits.insert(1, \"orange\")\n",
    "print(\"After Insert:\", fruits)\n",
    "\n",
    "# 6. Remove a fruit by name\n",
    "fruits.remove(\"cherry\")\n",
    "print(\"After Remove:\", fruits)\n",
    "\n",
    "# 7. Pop a fruit from the third position\n",
    "fruits.pop(2)\n",
    "print(\"After Pop:\", fruits)\n",
    "\n",
    "# 8. List comprehension to square numbers\n",
    "numbers = [1, 2, 3, 4, 5]\n",
    "squares = [x**2 for x in numbers]\n",
    "print(\"Squares:\", squares)\n"
   ]
  },
  {
   "cell_type": "markdown",
   "metadata": {},
   "source": [
    "# Filtering Algorithims "
   ]
  },
  {
   "cell_type": "markdown",
   "metadata": {},
   "source": [
    "- 📋 List: Stores multiple related items (e.g., numbers, words).\n",
    "\n",
    "- ➕ At least one item must be added via computation, not all hardcoded.\n",
    "\n",
    "- 🔍 Filtering algorithm:\n",
    "    - Loops through the list\n",
    "    - Checks a condition\n",
    "    - Stores matching items in a new list."
   ]
  },
  {
   "cell_type": "code",
   "execution_count": null,
   "metadata": {},
   "outputs": [],
   "source": [
    "# Create an empty list\n",
    "scores = []\n",
    "\n",
    "# Add elements using computation (not hardcoded)\n",
    "for i in range(1, 6):  # Adds numbers 1 to 5\n",
    "    scores.append(i * 10)  # Appends 10, 20, 30, 40, 50\n",
    "\n",
    "# Create a new list to store filtered values\n",
    "high_scores = []\n",
    "\n",
    "# Filtering algorithm: check for scores > 25\n",
    "for score in scores:\n",
    "    if score > 25:\n",
    "        high_scores.append(score)  # Adds only scores above 25\n",
    "\n",
    "# Output the filtered list\n",
    "print(\"All Scores:\", scores)\n",
    "print(\"High Scores:\", high_scores)\n"
   ]
  }
 ],
 "metadata": {
  "kernelspec": {
   "display_name": "venv",
   "language": "python",
   "name": "python3"
  },
  "language_info": {
   "codemirror_mode": {
    "name": "ipython",
    "version": 3
   },
   "file_extension": ".py",
   "mimetype": "text/x-python",
   "name": "python",
   "nbconvert_exporter": "python",
   "pygments_lexer": "ipython3",
   "version": "3.12.3"
  }
 },
 "nbformat": 4,
 "nbformat_minor": 2
}
