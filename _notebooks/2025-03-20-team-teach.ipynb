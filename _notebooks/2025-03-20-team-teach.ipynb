{
 "cells": [
  {
   "cell_type": "markdown",
   "metadata": {},
   "source": [
    "---\n",
    "layout: post\n",
    "type: issues \n",
    "comments: true\n",
    "permalink: Lists_Algorithims\n",
    "---"
   ]
  },
  {
   "cell_type": "markdown",
   "metadata": {},
   "source": [
    "# Lists"
   ]
  },
  {
   "cell_type": "markdown",
   "metadata": {},
   "source": [
    "1. What is a List?\n",
    "    A list is a collection of ordered elements, which means the order in which you add elements is preserved. Lists are mutable, meaning you can change, add, or remove elements after they've been created.\n",
    "\n",
    "    - Ordered: The position of elements is important.\n",
    "    - Mutable: You can change, add, or remove elements.\n",
    "    - Indexed: Each element has an index, starting from 0 for the first element."
   ]
  },
  {
   "cell_type": "markdown",
   "metadata": {},
   "source": [
    "2. Creating a List\n",
    "You create a list by placing items inside square brackets [] and separating them with commas. You can store any type of data in a list: strings, numbers, or even other lists."
   ]
  },
  {
   "cell_type": "code",
   "execution_count": null,
   "metadata": {},
   "outputs": [],
   "source": [
    "fruits = [\"apple\", \"banana\", \"cherry\"]\n",
    "print(fruits)  # Output: ['apple', 'banana', 'cherry']\n"
   ]
  },
  {
   "cell_type": "markdown",
   "metadata": {},
   "source": [
    "### Popcorn Hack #1: Extraction and Reversal"
   ]
  },
  {
   "cell_type": "markdown",
   "metadata": {},
   "source": [
    "Use list slicing to solve the following tasks:\n",
    "    - Extract the first 5 elements of the list.\n",
    "    - Extract every other element starting from the second element (index 1).\n",
    "    - Reverse the list using list slicing.\n",
    "    - Create a new list with the last 4 elements of the original list."
   ]
  },
  {
   "cell_type": "markdown",
   "metadata": {},
   "source": [
    "3. Accessing List Elements\n",
    "    - You can access any element in the list by using its index. The index starts at 0 for the first element."
   ]
  },
  {
   "cell_type": "code",
   "execution_count": 3,
   "metadata": {},
   "outputs": [
    {
     "name": "stdout",
     "output_type": "stream",
     "text": [
      "apple\n",
      "banana\n"
     ]
    }
   ],
   "source": [
    "fruits = [\"apple\", \"banana\", \"cherry\"]\n",
    "print(fruits[0])  # Output: apple\n",
    "print(fruits[1])  # Output: banana"
   ]
  },
  {
   "cell_type": "markdown",
   "metadata": {},
   "source": [
    "4. Modifying List Elements\n",
    "Lists are mutable, meaning you can modify an element by referring to its index and assigning it a new value."
   ]
  },
  {
   "cell_type": "code",
   "execution_count": 4,
   "metadata": {},
   "outputs": [
    {
     "name": "stdout",
     "output_type": "stream",
     "text": [
      "['apple', 'blueberry', 'cherry']\n"
     ]
    }
   ],
   "source": [
    "fruits[1] = \"blueberry\"  # Changes 'banana' to 'blueberry'\n",
    "print(fruits)  # Output: ['apple', 'blueberry', 'cherry']"
   ]
  },
  {
   "cell_type": "markdown",
   "metadata": {},
   "source": [
    "5. Adding Elements to a List\n",
    "- You can add elements to a list in two main ways:\n",
    "    - append(): Adds an item to the end of the list.\n",
    "    - insert(index, item): Adds an item at a specific position in the list.\n",
    "\n"
   ]
  },
  {
   "cell_type": "code",
   "execution_count": 5,
   "metadata": {},
   "outputs": [
    {
     "name": "stdout",
     "output_type": "stream",
     "text": [
      "['apple', 'blueberry', 'cherry', 'mango']\n",
      "['apple', 'orange', 'blueberry', 'cherry', 'mango']\n"
     ]
    }
   ],
   "source": [
    "# Append a new fruit to the end\n",
    "fruits.append(\"mango\")\n",
    "print(fruits)  # Output: ['apple', 'blueberry', 'cherry', 'mango']\n",
    "\n",
    "# Insert a fruit at the second position\n",
    "fruits.insert(1, \"orange\")\n",
    "print(fruits)  # Output: ['apple', 'orange', 'blueberry', 'cherry', 'mango']\n"
   ]
  },
  {
   "cell_type": "markdown",
   "metadata": {},
   "source": [
    "6. Removing Elements from a List\n",
    "- You can remove elements from a list using:\n",
    "    - remove(item): Removes the first occurrence of a specific item.\n",
    "    - pop(index): Removes and returns an item at a specific index."
   ]
  },
  {
   "cell_type": "code",
   "execution_count": null,
   "metadata": {},
   "outputs": [],
   "source": [
    "# Remove an item by name\n",
    "fruits.remove(\"cherry\")\n",
    "print(fruits)  # Output: ['apple', 'orange', 'blueberry', 'mango']\n",
    "\n",
    "# Pop an item from a specific index (removes and returns the item)\n",
    "fruits.pop(2)  # Removes 'blueberry' from index 2\n",
    "print(fruits)  # Output: ['apple', 'orange', 'mango']"
   ]
  },
  {
   "cell_type": "markdown",
   "metadata": {},
   "source": [
    "7. List Comprehension\n",
    "\n",
    "- List comprehension allows you to create a new list by applying an expression to each item in an existing list. It's a concise and powerful way to generate lists."
   ]
  },
  {
   "cell_type": "code",
   "execution_count": null,
   "metadata": {},
   "outputs": [],
   "source": [
    "# Square each number in the list\n",
    "numbers = [1, 2, 3, 4, 5]\n",
    "squares = [x**2 for x in numbers]\n",
    "print(squares)  # Output: [1, 4, 9, 16, 25]"
   ]
  },
  {
   "cell_type": "markdown",
   "metadata": {},
   "source": [
    "### Popcorn Hack #2: List Comprehension\n",
    "- Filtering a list only include even numbers\n"
   ]
  },
  {
   "cell_type": "markdown",
   "metadata": {},
   "source": [
    "#### Examples of All Concepts:"
   ]
  },
  {
   "cell_type": "code",
   "execution_count": null,
   "metadata": {},
   "outputs": [],
   "source": [
    "# 1. Create a list of fruits\n",
    "fruits = [\"apple\", \"banana\", \"cherry\"]\n",
    "print(\"Original List:\", fruits)\n",
    "\n",
    "# 2. Access the first fruit\n",
    "print(\"First fruit:\", fruits[0])\n",
    "\n",
    "# 3. Modify the second fruit\n",
    "fruits[1] = \"blueberry\"\n",
    "print(\"Modified List:\", fruits)\n",
    "\n",
    "# 4. Add a fruit at the end\n",
    "fruits.append(\"mango\")\n",
    "print(\"After Append:\", fruits)\n",
    "\n",
    "# 5. Insert a fruit at the second position\n",
    "fruits.insert(1, \"orange\")\n",
    "print(\"After Insert:\", fruits)\n",
    "\n",
    "# 6. Remove a fruit by name\n",
    "fruits.remove(\"cherry\")\n",
    "print(\"After Remove:\", fruits)\n",
    "\n",
    "# 7. Pop a fruit from the third position\n",
    "fruits.pop(2)\n",
    "print(\"After Pop:\", fruits)\n",
    "\n",
    "# 8. List comprehension to square numbers\n",
    "numbers = [1, 2, 3, 4, 5]\n",
    "squares = [x**2 for x in numbers]\n",
    "print(\"Squares:\", squares)\n"
   ]
  },
  {
   "cell_type": "markdown",
   "metadata": {},
   "source": [
    "# Filtering Algorithims "
   ]
  },
  {
   "cell_type": "markdown",
   "metadata": {},
   "source": [
    "- 📋 List: Stores multiple related items (e.g., numbers, words).\n",
    "\n",
    "- ➕ At least one item must be added via computation, not all hardcoded.\n",
    "\n",
    "- 🔍 Filtering algorithm:\n",
    "    - Loops through the list\n",
    "    - Checks a condition\n",
    "    - Stores matching items in a new list."
   ]
  },
  {
   "cell_type": "code",
   "execution_count": null,
   "metadata": {},
   "outputs": [],
   "source": [
    "# Create an empty list\n",
    "scores = []\n",
    "\n",
    "# Add elements using computation (not hardcoded)\n",
    "for i in range(1, 6):  # Adds numbers 1 to 5\n",
    "    scores.append(i * 10)  # Appends 10, 20, 30, 40, 50\n",
    "\n",
    "# Create a new list to store filtered values\n",
    "high_scores = []\n",
    "\n",
    "# Filtering algorithm: check for scores > 25\n",
    "for score in scores:\n",
    "    if score > 25:\n",
    "        high_scores.append(score)  # Adds only scores above 25\n",
    "\n",
    "# Output the filtered list\n",
    "print(\"All Scores:\", scores)\n",
    "print(\"High Scores:\", high_scores)\n"
   ]
  }
 ],
 "metadata": {
  "kernelspec": {
   "display_name": "venv",
   "language": "python",
   "name": "python3"
  },
  "language_info": {
   "codemirror_mode": {
    "name": "ipython",
    "version": 3
   },
   "file_extension": ".py",
   "mimetype": "text/x-python",
   "name": "python",
   "nbconvert_exporter": "python",
   "pygments_lexer": "ipython3",
   "version": "3.13.2"
  }
 },
 "nbformat": 4,
 "nbformat_minor": 2
}
